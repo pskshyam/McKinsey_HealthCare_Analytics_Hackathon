{
 "cells": [
  {
   "cell_type": "code",
   "execution_count": 1,
   "metadata": {
    "collapsed": true
   },
   "outputs": [],
   "source": [
    "#Import basic necessary datasets\n",
    "import pandas as pd\n",
    "import numpy as np"
   ]
  },
  {
   "cell_type": "code",
   "execution_count": 2,
   "metadata": {
    "collapsed": true
   },
   "outputs": [],
   "source": [
    "#Read the datasets and view the data\n",
    "train = pd.read_csv('train.csv')\n",
    "test = pd.read_csv('test.csv')\n",
    "sample = pd.read_csv('sample_submission.csv')"
   ]
  },
  {
   "cell_type": "code",
   "execution_count": 3,
   "metadata": {
    "collapsed": true
   },
   "outputs": [],
   "source": [
    "#filling null values\n",
    "train.bmi.fillna(value=train.bmi.median(), axis=0, inplace=True)\n",
    "test.bmi.fillna(value=test.bmi.median(), axis=0, inplace=True)\n",
    "\n",
    "train.smoking_status.fillna(value='no information', axis=0, inplace=True)\n",
    "test.smoking_status.fillna(value='no information', axis=0, inplace=True)"
   ]
  },
  {
   "cell_type": "code",
   "execution_count": 4,
   "metadata": {
    "collapsed": true
   },
   "outputs": [],
   "source": [
    "#grouping the data\n",
    "train.age = np.digitize(train.age, bins=np.arange(start=train.age.min(),stop=train.age.max(),step=10))\n",
    "test.age = np.digitize(test.age, bins=np.arange(start=test.age.min(),stop=test.age.max(),step=10))\n",
    "\n",
    "train.avg_glucose_level = np.digitize(train.avg_glucose_level, bins=np.arange(start=train.avg_glucose_level.min(),stop=train.avg_glucose_level.max(),step=50))\n",
    "test.avg_glucose_level = np.digitize(test.avg_glucose_level, bins=np.arange(start=test.avg_glucose_level.min(),stop=test.avg_glucose_level.max(),step=50))\n",
    "\n",
    "train.bmi = np.digitize(train.bmi, bins=np.arange(start=train.bmi.min(),stop=train.bmi.max(),step=10))\n",
    "test.bmi = np.digitize(test.bmi, bins=np.arange(start=test.bmi.min(),stop=test.bmi.max(),step=10))"
   ]
  },
  {
   "cell_type": "code",
   "execution_count": 5,
   "metadata": {
    "collapsed": false
   },
   "outputs": [
    {
     "name": "stderr",
     "output_type": "stream",
     "text": [
      "C:\\ProgramData\\Anaconda3\\lib\\site-packages\\ipykernel\\__main__.py:1: SettingWithCopyWarning: \n",
      "A value is trying to be set on a copy of a slice from a DataFrame\n",
      "\n",
      "See the caveats in the documentation: http://pandas.pydata.org/pandas-docs/stable/indexing.html#indexing-view-versus-copy\n",
      "  if __name__ == '__main__':\n",
      "C:\\ProgramData\\Anaconda3\\lib\\site-packages\\ipykernel\\__main__.py:2: SettingWithCopyWarning: \n",
      "A value is trying to be set on a copy of a slice from a DataFrame\n",
      "\n",
      "See the caveats in the documentation: http://pandas.pydata.org/pandas-docs/stable/indexing.html#indexing-view-versus-copy\n",
      "  from ipykernel import kernelapp as app\n"
     ]
    }
   ],
   "source": [
    "train.bmi[train.bmi.isin([7,8,9])] = 6\n",
    "test.bmi[test.bmi.isin([7,8,9])] = 6"
   ]
  },
  {
   "cell_type": "code",
   "execution_count": 6,
   "metadata": {
    "collapsed": true
   },
   "outputs": [],
   "source": [
    "#drop id column\n",
    "train.drop(columns=['id'], inplace=True)\n",
    "test.drop(columns=['id'], inplace=True)"
   ]
  },
  {
   "cell_type": "code",
   "execution_count": 7,
   "metadata": {
    "collapsed": true
   },
   "outputs": [],
   "source": [
    "#get dummy variables\n",
    "train = pd.get_dummies(train, columns=['gender','age','ever_married','work_type','Residence_type','avg_glucose_level','bmi','smoking_status'],drop_first=True)\n",
    "test = pd.get_dummies(test, columns=['gender','age','ever_married','work_type','Residence_type','avg_glucose_level','bmi','smoking_status'],drop_first=True)"
   ]
  },
  {
   "cell_type": "code",
   "execution_count": 48,
   "metadata": {
    "collapsed": false
   },
   "outputs": [],
   "source": [
    "#Take independent features into x and depenent feature into y\n",
    "X = train.drop('stroke', axis=1)\n",
    "y = train.stroke"
   ]
  },
  {
   "cell_type": "code",
   "execution_count": 9,
   "metadata": {
    "collapsed": false
   },
   "outputs": [
    {
     "data": {
      "text/plain": [
       "dict_items([(0, 42617), (1, 42617)])"
      ]
     },
     "execution_count": 9,
     "metadata": {},
     "output_type": "execute_result"
    }
   ],
   "source": [
    "from imblearn.over_sampling import SMOTE\n",
    "from collections import Counter\n",
    "sm = SMOTE()\n",
    "X_res, y_res = sm.fit_sample(X, y)\n",
    "Counter(y_res).items() #To print value counts of target classes"
   ]
  },
  {
   "cell_type": "code",
   "execution_count": 49,
   "metadata": {
    "collapsed": true
   },
   "outputs": [],
   "source": [
    "#train test split\n",
    "from sklearn.model_selection import train_test_split\n",
    "X_train, X_test, y_train, y_test = train_test_split(X, y, test_size = 0.2, random_state=123)\n",
    "X_train = np.array(X_train)\n",
    "X_test = np.array(X_test)"
   ]
  },
  {
   "cell_type": "code",
   "execution_count": 26,
   "metadata": {
    "collapsed": false
   },
   "outputs": [],
   "source": [
    "#import keras libraries\n",
    "from keras.wrappers.scikit_learn import KerasClassifier\n",
    "from sklearn.model_selection import cross_val_score\n",
    "from keras.models import Sequential\n",
    "from keras.layers import Dense, Dropout\n",
    "from keras import optimizers"
   ]
  },
  {
   "cell_type": "code",
   "execution_count": 181,
   "metadata": {
    "collapsed": true
   },
   "outputs": [],
   "source": [
    "#build a classifier function\n",
    "def build_classifier():\n",
    "    classifier = Sequential()  # initiate the model\n",
    "    classifier.add(Dense(60, input_shape=(30,), activation='relu')) # input layer\n",
    "    classifier.add(Dense(120, activation='relu'))                  # hidden layer\n",
    "    classifier.add(Dense(50, activation='relu'))                  # hidden layer\n",
    "    classifier.add(Dense(10, activation='relu'))                  # hidden layer\n",
    "    #classifier.add(Dropout(0.25))\n",
    "    classifier.add(Dense(1, activation = 'sigmoid')) #output layer\n",
    "    #adamax = optimizers.Adamax(lr=0.1)\n",
    "    classifier.compile(loss = 'binary_crossentropy', optimizer = 'Adam', metrics = ['accuracy'])\n",
    "    return classifier"
   ]
  },
  {
   "cell_type": "code",
   "execution_count": 182,
   "metadata": {
    "collapsed": true
   },
   "outputs": [],
   "source": [
    "#create a KerasClassifier object and call build_classifier function\n",
    "classifier = KerasClassifier(build_fn=build_classifier, batch_size=3000, nb_epoch=15, verbose=2)"
   ]
  },
  {
   "cell_type": "code",
   "execution_count": 183,
   "metadata": {
    "collapsed": true
   },
   "outputs": [],
   "source": [
    "from IPython.core.interactiveshell import InteractiveShell #To print multiple outputs\n",
    "InteractiveShell.ast_node_interactivity = 'all'"
   ]
  },
  {
   "cell_type": "code",
   "execution_count": 184,
   "metadata": {
    "collapsed": false,
    "scrolled": true
   },
   "outputs": [
    {
     "name": "stdout",
     "output_type": "stream",
     "text": [
      "Epoch 1/10\n",
      " - 6s - loss: 0.4156 - acc: 0.9599\n",
      "Epoch 2/10\n",
      " - 0s - loss: 0.1266 - acc: 0.9821\n",
      "Epoch 3/10\n",
      " - 0s - loss: 0.1061 - acc: 0.9821\n",
      "Epoch 4/10\n",
      " - 0s - loss: 0.1011 - acc: 0.9821\n",
      "Epoch 5/10\n",
      " - 0s - loss: 0.0924 - acc: 0.9821\n",
      "Epoch 6/10\n",
      " - 0s - loss: 0.0889 - acc: 0.9821\n",
      "Epoch 7/10\n",
      " - 0s - loss: 0.0859 - acc: 0.9821\n",
      "Epoch 8/10\n",
      " - 0s - loss: 0.0835 - acc: 0.9821\n",
      "Epoch 9/10\n",
      " - 0s - loss: 0.0813 - acc: 0.9821\n",
      "Epoch 10/10\n",
      " - 0s - loss: 0.0795 - acc: 0.9821\n",
      "Epoch 1/10\n",
      " - 6s - loss: 0.5313 - acc: 0.8931\n",
      "Epoch 2/10\n",
      " - 0s - loss: 0.2028 - acc: 0.9821\n",
      "Epoch 3/10\n",
      " - 0s - loss: 0.1006 - acc: 0.9821\n",
      "Epoch 4/10\n",
      " - 0s - loss: 0.1019 - acc: 0.9821\n",
      "Epoch 5/10\n",
      " - 0s - loss: 0.0920 - acc: 0.9821\n",
      "Epoch 6/10\n",
      " - 0s - loss: 0.0867 - acc: 0.9821\n",
      "Epoch 7/10\n",
      " - 0s - loss: 0.0841 - acc: 0.9821\n",
      "Epoch 8/10\n",
      " - 0s - loss: 0.0817 - acc: 0.9821\n",
      "Epoch 9/10\n",
      " - 0s - loss: 0.0798 - acc: 0.9821\n",
      "Epoch 10/10\n",
      " - 0s - loss: 0.0783 - acc: 0.9821\n",
      "Epoch 1/10\n",
      " - 6s - loss: 0.6348 - acc: 0.8551\n",
      "Epoch 2/10\n",
      " - 0s - loss: 0.4216 - acc: 0.9819\n",
      "Epoch 3/10\n",
      " - 0s - loss: 0.1753 - acc: 0.9819\n",
      "Epoch 4/10\n",
      " - 0s - loss: 0.1023 - acc: 0.9819\n",
      "Epoch 5/10\n",
      " - 0s - loss: 0.1027 - acc: 0.9819\n",
      "Epoch 6/10\n",
      " - 0s - loss: 0.0926 - acc: 0.9819\n",
      "Epoch 7/10\n",
      " - 0s - loss: 0.0873 - acc: 0.9819\n",
      "Epoch 8/10\n",
      " - 0s - loss: 0.0835 - acc: 0.9819\n",
      "Epoch 9/10\n",
      " - 0s - loss: 0.0810 - acc: 0.9819\n",
      "Epoch 10/10\n",
      " - 0s - loss: 0.0790 - acc: 0.9819\n",
      "Epoch 1/10\n",
      " - 6s - loss: 0.5572 - acc: 0.8609\n",
      "Epoch 2/10\n",
      " - 0s - loss: 0.2390 - acc: 0.9821\n",
      "Epoch 3/10\n",
      " - 0s - loss: 0.1031 - acc: 0.9821\n",
      "Epoch 4/10\n",
      " - 0s - loss: 0.1017 - acc: 0.9821\n",
      "Epoch 5/10\n",
      " - 0s - loss: 0.0927 - acc: 0.9821\n",
      "Epoch 6/10\n",
      " - 0s - loss: 0.0865 - acc: 0.9821\n",
      "Epoch 7/10\n",
      " - 0s - loss: 0.0838 - acc: 0.9821\n",
      "Epoch 8/10\n",
      " - 0s - loss: 0.0813 - acc: 0.9821\n",
      "Epoch 9/10\n",
      " - 0s - loss: 0.0795 - acc: 0.9821\n",
      "Epoch 10/10\n",
      " - 0s - loss: 0.0782 - acc: 0.9821\n",
      "Epoch 1/10\n",
      " - 6s - loss: 0.5744 - acc: 0.8113\n",
      "Epoch 2/10\n",
      " - 0s - loss: 0.2658 - acc: 0.9821\n",
      "Epoch 3/10\n",
      " - 0s - loss: 0.1139 - acc: 0.9821\n",
      "Epoch 4/10\n",
      " - 0s - loss: 0.1067 - acc: 0.9821\n",
      "Epoch 5/10\n",
      " - 0s - loss: 0.0986 - acc: 0.9821\n",
      "Epoch 6/10\n",
      " - 0s - loss: 0.0906 - acc: 0.9821\n",
      "Epoch 7/10\n",
      " - 0s - loss: 0.0871 - acc: 0.9821\n",
      "Epoch 8/10\n",
      " - 0s - loss: 0.0837 - acc: 0.9821\n",
      "Epoch 9/10\n",
      " - 0s - loss: 0.0810 - acc: 0.9821\n",
      "Epoch 10/10\n",
      " - 0s - loss: 0.0790 - acc: 0.9821\n",
      "Epoch 1/10\n",
      " - 7s - loss: 0.6115 - acc: 0.9667\n",
      "Epoch 2/10\n",
      " - 0s - loss: 0.2771 - acc: 0.9823\n",
      "Epoch 3/10\n",
      " - 0s - loss: 0.1042 - acc: 0.9823\n",
      "Epoch 4/10\n",
      " - 0s - loss: 0.1044 - acc: 0.9823\n",
      "Epoch 5/10\n",
      " - 0s - loss: 0.0915 - acc: 0.9823\n",
      "Epoch 6/10\n",
      " - 0s - loss: 0.0859 - acc: 0.9823\n",
      "Epoch 7/10\n",
      " - 0s - loss: 0.0827 - acc: 0.9823\n",
      "Epoch 8/10\n",
      " - 0s - loss: 0.0802 - acc: 0.9823\n",
      "Epoch 9/10\n",
      " - 0s - loss: 0.0784 - acc: 0.9823\n",
      "Epoch 10/10\n",
      " - 0s - loss: 0.0770 - acc: 0.9823\n",
      "Epoch 1/10\n",
      " - 8s - loss: 0.5507 - acc: 0.9279\n",
      "Epoch 2/10\n",
      " - 0s - loss: 0.2243 - acc: 0.9822\n",
      "Epoch 3/10\n",
      " - 0s - loss: 0.1024 - acc: 0.9822\n",
      "Epoch 4/10\n",
      " - 0s - loss: 0.1024 - acc: 0.9822\n",
      "Epoch 5/10\n",
      " - 0s - loss: 0.0904 - acc: 0.9822\n",
      "Epoch 6/10\n",
      " - 0s - loss: 0.0850 - acc: 0.9822\n",
      "Epoch 7/10\n",
      " - 0s - loss: 0.0816 - acc: 0.9822\n",
      "Epoch 8/10\n",
      " - 0s - loss: 0.0792 - acc: 0.9822\n",
      "Epoch 9/10\n",
      " - 0s - loss: 0.0776 - acc: 0.9822\n",
      "Epoch 10/10\n",
      " - 0s - loss: 0.0764 - acc: 0.9822\n",
      "Epoch 1/10\n",
      " - 6s - loss: 0.4680 - acc: 0.9819\n",
      "Epoch 2/10\n",
      " - 0s - loss: 0.1420 - acc: 0.9821\n",
      "Epoch 3/10\n",
      " - 0s - loss: 0.1051 - acc: 0.9821\n",
      "Epoch 4/10\n",
      " - 0s - loss: 0.0983 - acc: 0.9821\n",
      "Epoch 5/10\n",
      " - 0s - loss: 0.0882 - acc: 0.9821\n",
      "Epoch 6/10\n",
      " - 0s - loss: 0.0846 - acc: 0.9821\n",
      "Epoch 7/10\n",
      " - 0s - loss: 0.0815 - acc: 0.9821\n",
      "Epoch 8/10\n",
      " - 0s - loss: 0.0794 - acc: 0.9821\n",
      "Epoch 9/10\n",
      " - 0s - loss: 0.0779 - acc: 0.9821\n",
      "Epoch 10/10\n",
      " - 0s - loss: 0.0766 - acc: 0.9821\n",
      "Epoch 1/10\n",
      " - 7s - loss: 0.4628 - acc: 0.9688\n",
      "Epoch 2/10\n",
      " - 0s - loss: 0.1502 - acc: 0.9819\n",
      "Epoch 3/10\n",
      " - 0s - loss: 0.1000 - acc: 0.9819\n",
      "Epoch 4/10\n",
      " - 0s - loss: 0.0994 - acc: 0.9819\n",
      "Epoch 5/10\n",
      " - 0s - loss: 0.0893 - acc: 0.9819\n",
      "Epoch 6/10\n",
      " - 0s - loss: 0.0858 - acc: 0.9819\n",
      "Epoch 7/10\n",
      " - 0s - loss: 0.0833 - acc: 0.9819\n",
      "Epoch 8/10\n",
      " - 0s - loss: 0.0810 - acc: 0.9819\n",
      "Epoch 9/10\n",
      " - 0s - loss: 0.0792 - acc: 0.9819\n",
      "Epoch 10/10\n",
      " - 0s - loss: 0.0778 - acc: 0.9819\n",
      "Epoch 1/10\n",
      " - 6s - loss: 0.5772 - acc: 0.8512\n",
      "Epoch 2/10\n",
      " - 0s - loss: 0.2687 - acc: 0.9823\n",
      "Epoch 3/10\n",
      " - 0s - loss: 0.1051 - acc: 0.9823\n",
      "Epoch 4/10\n",
      " - 0s - loss: 0.0995 - acc: 0.9823\n",
      "Epoch 5/10\n",
      " - 0s - loss: 0.0941 - acc: 0.9823\n",
      "Epoch 6/10\n",
      " - 0s - loss: 0.0871 - acc: 0.9823\n",
      "Epoch 7/10\n",
      " - 0s - loss: 0.0848 - acc: 0.9823\n",
      "Epoch 8/10\n",
      " - 0s - loss: 0.0825 - acc: 0.9823\n",
      "Epoch 9/10\n",
      " - 0s - loss: 0.0807 - acc: 0.9823\n",
      "Epoch 10/10\n",
      " - 0s - loss: 0.0792 - acc: 0.9823\n"
     ]
    }
   ],
   "source": [
    "accuracies = cross_val_score(classifier, X_train, y_train, cv=10)"
   ]
  },
  {
   "cell_type": "code",
   "execution_count": 185,
   "metadata": {
    "collapsed": false
   },
   "outputs": [
    {
     "data": {
      "text/plain": [
       "0.98211405764801718"
      ]
     },
     "execution_count": 185,
     "metadata": {},
     "output_type": "execute_result"
    },
    {
     "data": {
      "text/plain": [
       "0.0012113937237098905"
      ]
     },
     "execution_count": 185,
     "metadata": {},
     "output_type": "execute_result"
    }
   ],
   "source": [
    "accuracies.mean()\n",
    "accuracies.std()"
   ]
  },
  {
   "cell_type": "code",
   "execution_count": 186,
   "metadata": {
    "collapsed": false
   },
   "outputs": [
    {
     "name": "stdout",
     "output_type": "stream",
     "text": [
      "Epoch 1/10\n",
      " - 7s - loss: 0.5148 - acc: 0.9527\n",
      "Epoch 2/10\n",
      " - 0s - loss: 0.1894 - acc: 0.9821\n",
      "Epoch 3/10\n",
      " - 0s - loss: 0.1035 - acc: 0.9821\n",
      "Epoch 4/10\n",
      " - 0s - loss: 0.1029 - acc: 0.9821\n",
      "Epoch 5/10\n",
      " - 0s - loss: 0.0918 - acc: 0.9821\n",
      "Epoch 6/10\n",
      " - 0s - loss: 0.0877 - acc: 0.9821\n",
      "Epoch 7/10\n",
      " - 0s - loss: 0.0842 - acc: 0.9821\n",
      "Epoch 8/10\n",
      " - 0s - loss: 0.0813 - acc: 0.9821\n",
      "Epoch 9/10\n",
      " - 0s - loss: 0.0788 - acc: 0.9821\n",
      "Epoch 10/10\n",
      " - 0s - loss: 0.0769 - acc: 0.9821\n"
     ]
    },
    {
     "data": {
      "text/plain": [
       "<keras.callbacks.History at 0xc7e635f8>"
      ]
     },
     "execution_count": 186,
     "metadata": {},
     "output_type": "execute_result"
    }
   ],
   "source": [
    "classifier.fit(X_train, y_train)"
   ]
  },
  {
   "cell_type": "code",
   "execution_count": 187,
   "metadata": {
    "collapsed": false
   },
   "outputs": [
    {
     "data": {
      "text/plain": [
       "0.8307817287429089"
      ]
     },
     "execution_count": 187,
     "metadata": {},
     "output_type": "execute_result"
    }
   ],
   "source": [
    "from sklearn import metrics\n",
    "y_pred = classifier.predict_proba(X_test)\n",
    "metrics.roc_auc_score(y_test,y_pred[:,1])"
   ]
  },
  {
   "cell_type": "code",
   "execution_count": 188,
   "metadata": {
    "collapsed": false
   },
   "outputs": [
    {
     "data": {
      "text/plain": [
       "0.99994248"
      ]
     },
     "execution_count": 188,
     "metadata": {},
     "output_type": "execute_result"
    }
   ],
   "source": [
    "test_pred = classifier.predict_proba(np.array(test))\n",
    "test_pred.max()"
   ]
  },
  {
   "cell_type": "code",
   "execution_count": 189,
   "metadata": {
    "collapsed": false
   },
   "outputs": [
    {
     "data": {
      "text/html": [
       "<div>\n",
       "<style scoped>\n",
       "    .dataframe tbody tr th:only-of-type {\n",
       "        vertical-align: middle;\n",
       "    }\n",
       "\n",
       "    .dataframe tbody tr th {\n",
       "        vertical-align: top;\n",
       "    }\n",
       "\n",
       "    .dataframe thead th {\n",
       "        text-align: right;\n",
       "    }\n",
       "</style>\n",
       "<table border=\"1\" class=\"dataframe\">\n",
       "  <thead>\n",
       "    <tr style=\"text-align: right;\">\n",
       "      <th></th>\n",
       "      <th>id</th>\n",
       "      <th>stroke</th>\n",
       "    </tr>\n",
       "  </thead>\n",
       "  <tbody>\n",
       "    <tr>\n",
       "      <th>0</th>\n",
       "      <td>36306</td>\n",
       "      <td>0.071771</td>\n",
       "    </tr>\n",
       "    <tr>\n",
       "      <th>1</th>\n",
       "      <td>61829</td>\n",
       "      <td>0.154766</td>\n",
       "    </tr>\n",
       "    <tr>\n",
       "      <th>2</th>\n",
       "      <td>14152</td>\n",
       "      <td>0.000504</td>\n",
       "    </tr>\n",
       "    <tr>\n",
       "      <th>3</th>\n",
       "      <td>12997</td>\n",
       "      <td>0.001908</td>\n",
       "    </tr>\n",
       "    <tr>\n",
       "      <th>4</th>\n",
       "      <td>40801</td>\n",
       "      <td>0.044137</td>\n",
       "    </tr>\n",
       "  </tbody>\n",
       "</table>\n",
       "</div>"
      ],
      "text/plain": [
       "      id    stroke\n",
       "0  36306  0.071771\n",
       "1  61829  0.154766\n",
       "2  14152  0.000504\n",
       "3  12997  0.001908\n",
       "4  40801  0.044137"
      ]
     },
     "execution_count": 189,
     "metadata": {},
     "output_type": "execute_result"
    }
   ],
   "source": [
    "sample['stroke'] = test_pred[:,1]\n",
    "sample.to_csv('sample_submission.csv',index=False)\n",
    "sample.head()"
   ]
  },
  {
   "cell_type": "code",
   "execution_count": 190,
   "metadata": {
    "collapsed": false
   },
   "outputs": [
    {
     "data": {
      "text/plain": [
       "5.7519585e-05"
      ]
     },
     "execution_count": 190,
     "metadata": {},
     "output_type": "execute_result"
    },
    {
     "data": {
      "text/plain": [
       "0.23404188"
      ]
     },
     "execution_count": 190,
     "metadata": {},
     "output_type": "execute_result"
    }
   ],
   "source": [
    "sample.stroke.min()\n",
    "sample.stroke.max()"
   ]
  },
  {
   "cell_type": "code",
   "execution_count": null,
   "metadata": {
    "collapsed": true
   },
   "outputs": [],
   "source": []
  }
 ],
 "metadata": {
  "kernelspec": {
   "display_name": "Python 3",
   "language": "python",
   "name": "python3"
  },
  "language_info": {
   "codemirror_mode": {
    "name": "ipython",
    "version": 3
   },
   "file_extension": ".py",
   "mimetype": "text/x-python",
   "name": "python",
   "nbconvert_exporter": "python",
   "pygments_lexer": "ipython3",
   "version": "3.6.0"
  }
 },
 "nbformat": 4,
 "nbformat_minor": 2
}
