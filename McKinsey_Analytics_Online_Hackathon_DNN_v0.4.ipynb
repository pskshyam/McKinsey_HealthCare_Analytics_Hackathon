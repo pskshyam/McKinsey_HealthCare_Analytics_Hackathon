{
 "cells": [
  {
   "cell_type": "code",
   "execution_count": 1,
   "metadata": {
    "collapsed": true
   },
   "outputs": [],
   "source": [
    "#Import basic necessary datasets\n",
    "import pandas as pd\n",
    "import numpy as np"
   ]
  },
  {
   "cell_type": "code",
   "execution_count": 18,
   "metadata": {
    "collapsed": true
   },
   "outputs": [],
   "source": [
    "#Read the datasets and view the data\n",
    "train = pd.read_csv('train.csv')\n",
    "test = pd.read_csv('test.csv')\n",
    "sample = pd.read_csv('sample_submission.csv')"
   ]
  },
  {
   "cell_type": "code",
   "execution_count": 19,
   "metadata": {
    "collapsed": false
   },
   "outputs": [],
   "source": [
    "#filling null values\n",
    "train.bmi.fillna(value=0, axis=0, inplace=True)\n",
    "test.bmi.fillna(value=0, axis=0, inplace=True)\n",
    "\n",
    "train.smoking_status.fillna(value='no information', axis=0, inplace=True)\n",
    "test.smoking_status.fillna(value='no information', axis=0, inplace=True)"
   ]
  },
  {
   "cell_type": "code",
   "execution_count": 20,
   "metadata": {
    "collapsed": true
   },
   "outputs": [],
   "source": [
    "#grouping the data\n",
    "train.age = np.digitize(train.age, bins=np.arange(start=train.age.min(),stop=train.age.max(),step=10))\n",
    "test.age = np.digitize(test.age, bins=np.arange(start=test.age.min(),stop=test.age.max(),step=10))\n",
    "\n",
    "train.avg_glucose_level = np.digitize(train.avg_glucose_level, bins=np.arange(start=train.avg_glucose_level.min(),stop=train.avg_glucose_level.max(),step=50))\n",
    "test.avg_glucose_level = np.digitize(test.avg_glucose_level, bins=np.arange(start=test.avg_glucose_level.min(),stop=test.avg_glucose_level.max(),step=50))\n",
    "\n",
    "train.bmi = np.digitize(train.bmi, bins=np.arange(start=train.bmi.min(),stop=train.bmi.max(),step=10))\n",
    "test.bmi = np.digitize(test.bmi, bins=np.arange(start=test.bmi.min(),stop=test.bmi.max(),step=10))"
   ]
  },
  {
   "cell_type": "code",
   "execution_count": 21,
   "metadata": {
    "collapsed": false
   },
   "outputs": [
    {
     "name": "stderr",
     "output_type": "stream",
     "text": [
      "C:\\ProgramData\\Anaconda3\\lib\\site-packages\\ipykernel\\__main__.py:1: SettingWithCopyWarning: \n",
      "A value is trying to be set on a copy of a slice from a DataFrame\n",
      "\n",
      "See the caveats in the documentation: http://pandas.pydata.org/pandas-docs/stable/indexing.html#indexing-view-versus-copy\n",
      "  if __name__ == '__main__':\n",
      "C:\\ProgramData\\Anaconda3\\lib\\site-packages\\ipykernel\\__main__.py:2: SettingWithCopyWarning: \n",
      "A value is trying to be set on a copy of a slice from a DataFrame\n",
      "\n",
      "See the caveats in the documentation: http://pandas.pydata.org/pandas-docs/stable/indexing.html#indexing-view-versus-copy\n",
      "  from ipykernel import kernelapp as app\n"
     ]
    }
   ],
   "source": [
    "train.bmi[train.bmi.isin([7,8,9,10])] = 6\n",
    "test.bmi[test.bmi.isin([7,8,9,10])] = 6"
   ]
  },
  {
   "cell_type": "code",
   "execution_count": 22,
   "metadata": {
    "collapsed": false
   },
   "outputs": [
    {
     "data": {
      "text/html": [
       "<div>\n",
       "<style scoped>\n",
       "    .dataframe tbody tr th:only-of-type {\n",
       "        vertical-align: middle;\n",
       "    }\n",
       "\n",
       "    .dataframe tbody tr th {\n",
       "        vertical-align: top;\n",
       "    }\n",
       "\n",
       "    .dataframe thead th {\n",
       "        text-align: right;\n",
       "    }\n",
       "</style>\n",
       "<table border=\"1\" class=\"dataframe\">\n",
       "  <thead>\n",
       "    <tr style=\"text-align: right;\">\n",
       "      <th></th>\n",
       "      <th>id</th>\n",
       "      <th>gender</th>\n",
       "      <th>age</th>\n",
       "      <th>hypertension</th>\n",
       "      <th>heart_disease</th>\n",
       "      <th>ever_married</th>\n",
       "      <th>work_type</th>\n",
       "      <th>Residence_type</th>\n",
       "      <th>avg_glucose_level</th>\n",
       "      <th>bmi</th>\n",
       "      <th>smoking_status</th>\n",
       "      <th>stroke</th>\n",
       "    </tr>\n",
       "  </thead>\n",
       "  <tbody>\n",
       "    <tr>\n",
       "      <th>0</th>\n",
       "      <td>30669</td>\n",
       "      <td>1</td>\n",
       "      <td>1</td>\n",
       "      <td>0</td>\n",
       "      <td>0</td>\n",
       "      <td>0</td>\n",
       "      <td>4</td>\n",
       "      <td>0</td>\n",
       "      <td>1</td>\n",
       "      <td>2</td>\n",
       "      <td>2</td>\n",
       "      <td>0</td>\n",
       "    </tr>\n",
       "    <tr>\n",
       "      <th>1</th>\n",
       "      <td>30468</td>\n",
       "      <td>1</td>\n",
       "      <td>6</td>\n",
       "      <td>1</td>\n",
       "      <td>0</td>\n",
       "      <td>1</td>\n",
       "      <td>2</td>\n",
       "      <td>1</td>\n",
       "      <td>1</td>\n",
       "      <td>4</td>\n",
       "      <td>1</td>\n",
       "      <td>0</td>\n",
       "    </tr>\n",
       "    <tr>\n",
       "      <th>2</th>\n",
       "      <td>16523</td>\n",
       "      <td>0</td>\n",
       "      <td>1</td>\n",
       "      <td>0</td>\n",
       "      <td>0</td>\n",
       "      <td>0</td>\n",
       "      <td>2</td>\n",
       "      <td>1</td>\n",
       "      <td>2</td>\n",
       "      <td>2</td>\n",
       "      <td>2</td>\n",
       "      <td>0</td>\n",
       "    </tr>\n",
       "    <tr>\n",
       "      <th>3</th>\n",
       "      <td>56543</td>\n",
       "      <td>0</td>\n",
       "      <td>7</td>\n",
       "      <td>0</td>\n",
       "      <td>0</td>\n",
       "      <td>1</td>\n",
       "      <td>2</td>\n",
       "      <td>0</td>\n",
       "      <td>1</td>\n",
       "      <td>4</td>\n",
       "      <td>0</td>\n",
       "      <td>0</td>\n",
       "    </tr>\n",
       "    <tr>\n",
       "      <th>4</th>\n",
       "      <td>46136</td>\n",
       "      <td>1</td>\n",
       "      <td>2</td>\n",
       "      <td>0</td>\n",
       "      <td>0</td>\n",
       "      <td>0</td>\n",
       "      <td>1</td>\n",
       "      <td>0</td>\n",
       "      <td>3</td>\n",
       "      <td>2</td>\n",
       "      <td>2</td>\n",
       "      <td>0</td>\n",
       "    </tr>\n",
       "  </tbody>\n",
       "</table>\n",
       "</div>"
      ],
      "text/plain": [
       "      id  gender  age  hypertension  heart_disease  ever_married  work_type  \\\n",
       "0  30669       1    1             0              0             0          4   \n",
       "1  30468       1    6             1              0             1          2   \n",
       "2  16523       0    1             0              0             0          2   \n",
       "3  56543       0    7             0              0             1          2   \n",
       "4  46136       1    2             0              0             0          1   \n",
       "\n",
       "   Residence_type  avg_glucose_level  bmi  smoking_status  stroke  \n",
       "0               0                  1    2               2       0  \n",
       "1               1                  1    4               1       0  \n",
       "2               1                  2    2               2       0  \n",
       "3               0                  1    4               0       0  \n",
       "4               0                  3    2               2       0  "
      ]
     },
     "execution_count": 22,
     "metadata": {},
     "output_type": "execute_result"
    }
   ],
   "source": [
    "from sklearn.preprocessing import LabelEncoder\n",
    "le = LabelEncoder()\n",
    "train.gender = le.fit_transform(train.gender.values)\n",
    "train.ever_married = le.fit_transform(train.ever_married.values)\n",
    "train.work_type = le.fit_transform(train.work_type.values)\n",
    "train.Residence_type = le.fit_transform(train.Residence_type.values)\n",
    "train.smoking_status = le.fit_transform(train.smoking_status.values)\n",
    "train.head()"
   ]
  },
  {
   "cell_type": "code",
   "execution_count": 23,
   "metadata": {
    "collapsed": false
   },
   "outputs": [
    {
     "data": {
      "text/html": [
       "<div>\n",
       "<style scoped>\n",
       "    .dataframe tbody tr th:only-of-type {\n",
       "        vertical-align: middle;\n",
       "    }\n",
       "\n",
       "    .dataframe tbody tr th {\n",
       "        vertical-align: top;\n",
       "    }\n",
       "\n",
       "    .dataframe thead th {\n",
       "        text-align: right;\n",
       "    }\n",
       "</style>\n",
       "<table border=\"1\" class=\"dataframe\">\n",
       "  <thead>\n",
       "    <tr style=\"text-align: right;\">\n",
       "      <th></th>\n",
       "      <th>id</th>\n",
       "      <th>gender</th>\n",
       "      <th>age</th>\n",
       "      <th>hypertension</th>\n",
       "      <th>heart_disease</th>\n",
       "      <th>ever_married</th>\n",
       "      <th>work_type</th>\n",
       "      <th>Residence_type</th>\n",
       "      <th>avg_glucose_level</th>\n",
       "      <th>bmi</th>\n",
       "      <th>smoking_status</th>\n",
       "    </tr>\n",
       "  </thead>\n",
       "  <tbody>\n",
       "    <tr>\n",
       "      <th>0</th>\n",
       "      <td>36306</td>\n",
       "      <td>1</td>\n",
       "      <td>8</td>\n",
       "      <td>0</td>\n",
       "      <td>0</td>\n",
       "      <td>1</td>\n",
       "      <td>2</td>\n",
       "      <td>1</td>\n",
       "      <td>1</td>\n",
       "      <td>3</td>\n",
       "      <td>0</td>\n",
       "    </tr>\n",
       "    <tr>\n",
       "      <th>1</th>\n",
       "      <td>61829</td>\n",
       "      <td>0</td>\n",
       "      <td>8</td>\n",
       "      <td>0</td>\n",
       "      <td>1</td>\n",
       "      <td>1</td>\n",
       "      <td>3</td>\n",
       "      <td>0</td>\n",
       "      <td>3</td>\n",
       "      <td>3</td>\n",
       "      <td>0</td>\n",
       "    </tr>\n",
       "    <tr>\n",
       "      <th>2</th>\n",
       "      <td>14152</td>\n",
       "      <td>0</td>\n",
       "      <td>2</td>\n",
       "      <td>0</td>\n",
       "      <td>0</td>\n",
       "      <td>0</td>\n",
       "      <td>4</td>\n",
       "      <td>0</td>\n",
       "      <td>1</td>\n",
       "      <td>3</td>\n",
       "      <td>2</td>\n",
       "    </tr>\n",
       "    <tr>\n",
       "      <th>3</th>\n",
       "      <td>12997</td>\n",
       "      <td>1</td>\n",
       "      <td>3</td>\n",
       "      <td>0</td>\n",
       "      <td>0</td>\n",
       "      <td>0</td>\n",
       "      <td>2</td>\n",
       "      <td>1</td>\n",
       "      <td>1</td>\n",
       "      <td>3</td>\n",
       "      <td>2</td>\n",
       "    </tr>\n",
       "    <tr>\n",
       "      <th>4</th>\n",
       "      <td>40801</td>\n",
       "      <td>0</td>\n",
       "      <td>7</td>\n",
       "      <td>0</td>\n",
       "      <td>0</td>\n",
       "      <td>1</td>\n",
       "      <td>0</td>\n",
       "      <td>0</td>\n",
       "      <td>1</td>\n",
       "      <td>3</td>\n",
       "      <td>1</td>\n",
       "    </tr>\n",
       "  </tbody>\n",
       "</table>\n",
       "</div>"
      ],
      "text/plain": [
       "      id  gender  age  hypertension  heart_disease  ever_married  work_type  \\\n",
       "0  36306       1    8             0              0             1          2   \n",
       "1  61829       0    8             0              1             1          3   \n",
       "2  14152       0    2             0              0             0          4   \n",
       "3  12997       1    3             0              0             0          2   \n",
       "4  40801       0    7             0              0             1          0   \n",
       "\n",
       "   Residence_type  avg_glucose_level  bmi  smoking_status  \n",
       "0               1                  1    3               0  \n",
       "1               0                  3    3               0  \n",
       "2               0                  1    3               2  \n",
       "3               1                  1    3               2  \n",
       "4               0                  1    3               1  "
      ]
     },
     "execution_count": 23,
     "metadata": {},
     "output_type": "execute_result"
    }
   ],
   "source": [
    "test.gender = le.fit_transform(test.gender.values)\n",
    "test.ever_married = le.fit_transform(test.ever_married.values)\n",
    "test.work_type = le.fit_transform(test.work_type.values)\n",
    "test.Residence_type = le.fit_transform(test.Residence_type.values)\n",
    "test.smoking_status = le.fit_transform(test.smoking_status.values)\n",
    "test.head()"
   ]
  },
  {
   "cell_type": "code",
   "execution_count": 24,
   "metadata": {
    "collapsed": true
   },
   "outputs": [],
   "source": [
    "#drop id column\n",
    "train.drop(columns=['id'], inplace=True)\n",
    "test.drop(columns=['id'], inplace=True)"
   ]
  },
  {
   "cell_type": "code",
   "execution_count": 9,
   "metadata": {
    "collapsed": true
   },
   "outputs": [],
   "source": [
    "#get dummy variables\n",
    "train = pd.get_dummies(train, columns=['gender','age','ever_married','work_type','Residence_type','avg_glucose_level','bmi','smoking_status'],drop_first=True)\n",
    "test = pd.get_dummies(test, columns=['gender','age','ever_married','work_type','Residence_type','avg_glucose_level','bmi','smoking_status'],drop_first=True)"
   ]
  },
  {
   "cell_type": "code",
   "execution_count": 25,
   "metadata": {
    "collapsed": false
   },
   "outputs": [],
   "source": [
    "#Take independent features into x and depenent feature into y\n",
    "X = train.drop('stroke', axis=1)\n",
    "y = train.stroke"
   ]
  },
  {
   "cell_type": "code",
   "execution_count": 26,
   "metadata": {
    "collapsed": false
   },
   "outputs": [
    {
     "data": {
      "text/plain": [
       "array([[ 1.20108119, -1.64838568, -0.32129564, ..., -0.57595987,\n",
       "        -1.39687604,  0.59661818],\n",
       "       [ 1.20108119,  0.58894336,  3.11239826, ..., -0.57595987,\n",
       "         0.78908751, -0.4612414 ],\n",
       "       [-0.83084068, -1.64838568, -0.32129564, ...,  0.56643117,\n",
       "        -1.39687604,  0.59661818],\n",
       "       ..., \n",
       "       [-0.83084068,  1.93134079,  3.11239826, ..., -0.57595987,\n",
       "        -0.30389427, -1.51910099],\n",
       "       [ 1.20108119, -0.30598826, -0.32129564, ..., -0.57595987,\n",
       "         0.78908751, -0.4612414 ],\n",
       "       [-0.83084068,  1.93134079, -0.32129564, ..., -0.57595987,\n",
       "        -0.30389427, -0.4612414 ]])"
      ]
     },
     "execution_count": 26,
     "metadata": {},
     "output_type": "execute_result"
    }
   ],
   "source": [
    "from sklearn.preprocessing import StandardScaler\n",
    "std = StandardScaler()\n",
    "X_scaled = std.fit_transform(X)\n",
    "X_scaled"
   ]
  },
  {
   "cell_type": "code",
   "execution_count": 27,
   "metadata": {
    "collapsed": true
   },
   "outputs": [],
   "source": [
    "#train test split\n",
    "from sklearn.model_selection import train_test_split\n",
    "X_train, X_test, y_train, y_test = train_test_split(X_scaled, y, test_size = 0.2, random_state=123)"
   ]
  },
  {
   "cell_type": "code",
   "execution_count": 13,
   "metadata": {
    "collapsed": false
   },
   "outputs": [
    {
     "name": "stderr",
     "output_type": "stream",
     "text": [
      "Using TensorFlow backend.\n"
     ]
    }
   ],
   "source": [
    "#import keras libraries\n",
    "from keras.wrappers.scikit_learn import KerasClassifier\n",
    "from sklearn.model_selection import cross_val_score\n",
    "from keras.models import Sequential\n",
    "from keras.layers import Dense, Dropout, LeakyReLU\n",
    "from keras.optimizers import Adam, rmsprop"
   ]
  },
  {
   "cell_type": "code",
   "execution_count": 28,
   "metadata": {
    "collapsed": true
   },
   "outputs": [],
   "source": [
    "#build a classifier function\n",
    "def build_classifier():\n",
    "    classifier = Sequential()  # initiate the model\n",
    "    classifier.add(Dense(200, input_shape=(10,), activation='relu')) # input layer\n",
    "    classifier.add(Dense(150, activation='relu'))                  # hidden layer\n",
    "    classifier.add(Dense(100, activation='relu'))                  # hidden layer\n",
    "    classifier.add(Dense(50, activation='relu'))                  # hidden layer\n",
    "    #classifier.add(Dropout(0.25))\n",
    "    classifier.add(Dense(1, activation = 'sigmoid')) #output layer\n",
    "    classifier.compile(loss = 'binary_crossentropy', optimizer = 'Adam', metrics = ['accuracy'])\n",
    "    return classifier"
   ]
  },
  {
   "cell_type": "code",
   "execution_count": 29,
   "metadata": {
    "collapsed": true
   },
   "outputs": [],
   "source": [
    "#create a KerasClassifier object and call build_classifier function\n",
    "classifier = KerasClassifier(build_fn=build_classifier, batch_size=1000, nb_epoch=20, verbose=2)"
   ]
  },
  {
   "cell_type": "code",
   "execution_count": 16,
   "metadata": {
    "collapsed": true
   },
   "outputs": [],
   "source": [
    "from IPython.core.interactiveshell import InteractiveShell #To print multiple outputs\n",
    "InteractiveShell.ast_node_interactivity = 'all'"
   ]
  },
  {
   "cell_type": "code",
   "execution_count": 30,
   "metadata": {
    "collapsed": false
   },
   "outputs": [
    {
     "name": "stdout",
     "output_type": "stream",
     "text": [
      "Epoch 1/10\n",
      " - 1s - loss: 0.2120 - acc: 0.9764\n",
      "Epoch 2/10\n",
      " - 0s - loss: 0.0825 - acc: 0.9821\n",
      "Epoch 3/10\n",
      " - 0s - loss: 0.0772 - acc: 0.9821\n",
      "Epoch 4/10\n",
      " - 0s - loss: 0.0753 - acc: 0.9821\n",
      "Epoch 5/10\n",
      " - 0s - loss: 0.0741 - acc: 0.9821\n",
      "Epoch 6/10\n",
      " - 0s - loss: 0.0732 - acc: 0.9821\n",
      "Epoch 7/10\n",
      " - 0s - loss: 0.0727 - acc: 0.9821\n",
      "Epoch 8/10\n",
      " - 0s - loss: 0.0722 - acc: 0.9821\n",
      "Epoch 9/10\n",
      " - 0s - loss: 0.0723 - acc: 0.9821\n",
      "Epoch 10/10\n",
      " - 0s - loss: 0.0719 - acc: 0.9821\n",
      "Epoch 1/10\n",
      " - 1s - loss: 0.2594 - acc: 0.9322\n",
      "Epoch 2/10\n",
      " - 0s - loss: 0.0856 - acc: 0.9821\n",
      "Epoch 3/10\n",
      " - 0s - loss: 0.0778 - acc: 0.9821\n",
      "Epoch 4/10\n",
      " - 0s - loss: 0.0758 - acc: 0.9821\n",
      "Epoch 5/10\n",
      " - 0s - loss: 0.0745 - acc: 0.9821\n",
      "Epoch 6/10\n",
      " - 0s - loss: 0.0737 - acc: 0.9821\n",
      "Epoch 7/10\n",
      " - 0s - loss: 0.0731 - acc: 0.9821\n",
      "Epoch 8/10\n",
      " - 0s - loss: 0.0725 - acc: 0.9821\n",
      "Epoch 9/10\n",
      " - 0s - loss: 0.0721 - acc: 0.9821\n",
      "Epoch 10/10\n",
      " - 0s - loss: 0.0716 - acc: 0.9821\n",
      "Epoch 1/10\n",
      " - 1s - loss: 0.1982 - acc: 0.9768\n",
      "Epoch 2/10\n",
      " - 0s - loss: 0.0823 - acc: 0.9819\n",
      "Epoch 3/10\n",
      " - 0s - loss: 0.0774 - acc: 0.9819\n",
      "Epoch 4/10\n",
      " - 0s - loss: 0.0756 - acc: 0.9819\n",
      "Epoch 5/10\n",
      " - 0s - loss: 0.0747 - acc: 0.9819\n",
      "Epoch 6/10\n",
      " - 0s - loss: 0.0739 - acc: 0.9819\n",
      "Epoch 7/10\n",
      " - 0s - loss: 0.0733 - acc: 0.9819\n",
      "Epoch 8/10\n",
      " - 0s - loss: 0.0729 - acc: 0.9819\n",
      "Epoch 9/10\n",
      " - 0s - loss: 0.0722 - acc: 0.9819\n",
      "Epoch 10/10\n",
      " - 0s - loss: 0.0719 - acc: 0.9819\n",
      "Epoch 1/10\n",
      " - 1s - loss: 0.2426 - acc: 0.9424\n",
      "Epoch 2/10\n",
      " - 0s - loss: 0.0824 - acc: 0.9821\n",
      "Epoch 3/10\n",
      " - 0s - loss: 0.0770 - acc: 0.9821\n",
      "Epoch 4/10\n",
      " - 0s - loss: 0.0755 - acc: 0.9821\n",
      "Epoch 5/10\n",
      " - 0s - loss: 0.0746 - acc: 0.9821\n",
      "Epoch 6/10\n",
      " - 0s - loss: 0.0739 - acc: 0.9821\n",
      "Epoch 7/10\n",
      " - 0s - loss: 0.0734 - acc: 0.9821\n",
      "Epoch 8/10\n",
      " - 0s - loss: 0.0728 - acc: 0.9821\n",
      "Epoch 9/10\n",
      " - 0s - loss: 0.0725 - acc: 0.9821\n",
      "Epoch 10/10\n",
      " - 0s - loss: 0.0717 - acc: 0.9821\n",
      "Epoch 1/10\n",
      " - 1s - loss: 0.1996 - acc: 0.9723\n",
      "Epoch 2/10\n",
      " - 0s - loss: 0.0821 - acc: 0.9821\n",
      "Epoch 3/10\n",
      " - 0s - loss: 0.0772 - acc: 0.9821\n",
      "Epoch 4/10\n",
      " - 0s - loss: 0.0753 - acc: 0.9821\n",
      "Epoch 5/10\n",
      " - 0s - loss: 0.0742 - acc: 0.9821\n",
      "Epoch 6/10\n",
      " - 0s - loss: 0.0734 - acc: 0.9821\n",
      "Epoch 7/10\n",
      " - 0s - loss: 0.0727 - acc: 0.9821\n",
      "Epoch 8/10\n",
      " - 0s - loss: 0.0720 - acc: 0.9821\n",
      "Epoch 9/10\n",
      " - 0s - loss: 0.0717 - acc: 0.9821\n",
      "Epoch 10/10\n",
      " - 0s - loss: 0.0712 - acc: 0.9821\n",
      "Epoch 1/10\n",
      " - 1s - loss: 0.1936 - acc: 0.9702\n",
      "Epoch 2/10\n",
      " - 0s - loss: 0.0816 - acc: 0.9823\n",
      "Epoch 3/10\n",
      " - 0s - loss: 0.0764 - acc: 0.9823\n",
      "Epoch 4/10\n",
      " - 0s - loss: 0.0749 - acc: 0.9823\n",
      "Epoch 5/10\n",
      " - 0s - loss: 0.0739 - acc: 0.9823\n",
      "Epoch 6/10\n",
      " - 0s - loss: 0.0731 - acc: 0.9823\n",
      "Epoch 7/10\n",
      " - 0s - loss: 0.0726 - acc: 0.9823\n",
      "Epoch 8/10\n",
      " - 0s - loss: 0.0720 - acc: 0.9823\n",
      "Epoch 9/10\n",
      " - 0s - loss: 0.0715 - acc: 0.9823\n",
      "Epoch 10/10\n",
      " - 0s - loss: 0.0714 - acc: 0.9823\n",
      "Epoch 1/10\n",
      " - 1s - loss: 0.2009 - acc: 0.9733\n",
      "Epoch 2/10\n",
      " - 0s - loss: 0.0805 - acc: 0.9822\n",
      "Epoch 3/10\n",
      " - 0s - loss: 0.0765 - acc: 0.9822\n",
      "Epoch 4/10\n",
      " - 0s - loss: 0.0748 - acc: 0.9822\n",
      "Epoch 5/10\n",
      " - 0s - loss: 0.0736 - acc: 0.9822\n",
      "Epoch 6/10\n",
      " - 0s - loss: 0.0729 - acc: 0.9822\n",
      "Epoch 7/10\n",
      " - 0s - loss: 0.0724 - acc: 0.9822\n",
      "Epoch 8/10\n",
      " - 0s - loss: 0.0718 - acc: 0.9822\n",
      "Epoch 9/10\n",
      " - 0s - loss: 0.0712 - acc: 0.9822\n",
      "Epoch 10/10\n",
      " - 0s - loss: 0.0707 - acc: 0.9822\n",
      "Epoch 1/10\n",
      " - 1s - loss: 0.2183 - acc: 0.9600\n",
      "Epoch 2/10\n",
      " - 0s - loss: 0.0824 - acc: 0.9821\n",
      "Epoch 3/10\n",
      " - 0s - loss: 0.0773 - acc: 0.9821\n",
      "Epoch 4/10\n",
      " - 0s - loss: 0.0756 - acc: 0.9821\n",
      "Epoch 5/10\n",
      " - 0s - loss: 0.0744 - acc: 0.9821\n",
      "Epoch 6/10\n",
      " - 0s - loss: 0.0736 - acc: 0.9821\n",
      "Epoch 7/10\n",
      " - 0s - loss: 0.0729 - acc: 0.9821\n",
      "Epoch 8/10\n",
      " - 0s - loss: 0.0725 - acc: 0.9821\n",
      "Epoch 9/10\n",
      " - 0s - loss: 0.0718 - acc: 0.9821\n",
      "Epoch 10/10\n",
      " - 0s - loss: 0.0714 - acc: 0.9821\n",
      "Epoch 1/10\n",
      " - 1s - loss: 0.1863 - acc: 0.9818\n",
      "Epoch 2/10\n",
      " - 0s - loss: 0.0813 - acc: 0.9819\n",
      "Epoch 3/10\n",
      " - 0s - loss: 0.0767 - acc: 0.9819\n",
      "Epoch 4/10\n",
      " - 0s - loss: 0.0754 - acc: 0.9819\n",
      "Epoch 5/10\n",
      " - 0s - loss: 0.0742 - acc: 0.9819\n",
      "Epoch 6/10\n",
      " - 0s - loss: 0.0733 - acc: 0.9819\n",
      "Epoch 7/10\n",
      " - 0s - loss: 0.0728 - acc: 0.9819\n",
      "Epoch 8/10\n",
      " - 0s - loss: 0.0719 - acc: 0.9819\n",
      "Epoch 9/10\n",
      " - 0s - loss: 0.0716 - acc: 0.9819\n",
      "Epoch 10/10\n",
      " - 0s - loss: 0.0712 - acc: 0.9819\n",
      "Epoch 1/10\n",
      " - 1s - loss: 0.1771 - acc: 0.9812\n",
      "Epoch 2/10\n",
      " - 0s - loss: 0.0802 - acc: 0.9823\n",
      "Epoch 3/10\n",
      " - 0s - loss: 0.0761 - acc: 0.9823\n",
      "Epoch 4/10\n",
      " - 0s - loss: 0.0747 - acc: 0.9823\n",
      "Epoch 5/10\n",
      " - 0s - loss: 0.0737 - acc: 0.9823\n",
      "Epoch 6/10\n",
      " - 0s - loss: 0.0729 - acc: 0.9823\n",
      "Epoch 7/10\n",
      " - 0s - loss: 0.0723 - acc: 0.9823\n",
      "Epoch 8/10\n",
      " - 0s - loss: 0.0717 - acc: 0.9823\n",
      "Epoch 9/10\n",
      " - 0s - loss: 0.0718 - acc: 0.9823\n",
      "Epoch 10/10\n",
      " - 0s - loss: 0.0712 - acc: 0.9823\n"
     ]
    }
   ],
   "source": [
    "accuracies = cross_val_score(classifier, X_train, y_train, cv=10)"
   ]
  },
  {
   "cell_type": "code",
   "execution_count": 31,
   "metadata": {
    "collapsed": false
   },
   "outputs": [
    {
     "data": {
      "text/plain": [
       "0.98211405593129353"
      ]
     },
     "execution_count": 31,
     "metadata": {},
     "output_type": "execute_result"
    },
    {
     "data": {
      "text/plain": [
       "0.0012113863358717109"
      ]
     },
     "execution_count": 31,
     "metadata": {},
     "output_type": "execute_result"
    }
   ],
   "source": [
    "accuracies.mean()\n",
    "accuracies.std()"
   ]
  },
  {
   "cell_type": "code",
   "execution_count": 32,
   "metadata": {
    "collapsed": false
   },
   "outputs": [
    {
     "name": "stdout",
     "output_type": "stream",
     "text": [
      "Epoch 1/10\n",
      " - 1s - loss: 0.1765 - acc: 0.9818\n",
      "Epoch 2/10\n",
      " - 0s - loss: 0.0801 - acc: 0.9821\n",
      "Epoch 3/10\n",
      " - 0s - loss: 0.0762 - acc: 0.9821\n",
      "Epoch 4/10\n",
      " - 0s - loss: 0.0745 - acc: 0.9821\n",
      "Epoch 5/10\n",
      " - 0s - loss: 0.0736 - acc: 0.9821\n",
      "Epoch 6/10\n",
      " - 0s - loss: 0.0731 - acc: 0.9821\n",
      "Epoch 7/10\n",
      " - 0s - loss: 0.0724 - acc: 0.9821\n",
      "Epoch 8/10\n",
      " - 0s - loss: 0.0720 - acc: 0.9821\n",
      "Epoch 9/10\n",
      " - 0s - loss: 0.0715 - acc: 0.9821\n",
      "Epoch 10/10\n",
      " - 0s - loss: 0.0716 - acc: 0.9821\n"
     ]
    },
    {
     "data": {
      "text/plain": [
       "<keras.callbacks.History at 0x263c4e10>"
      ]
     },
     "execution_count": 32,
     "metadata": {},
     "output_type": "execute_result"
    }
   ],
   "source": [
    "classifier.fit(X_train, y_train)"
   ]
  },
  {
   "cell_type": "code",
   "execution_count": 33,
   "metadata": {
    "collapsed": false
   },
   "outputs": [
    {
     "data": {
      "text/plain": [
       "0.86548057997733197"
      ]
     },
     "execution_count": 33,
     "metadata": {},
     "output_type": "execute_result"
    }
   ],
   "source": [
    "from sklearn import metrics\n",
    "y_pred = classifier.predict_proba(X_test)\n",
    "metrics.roc_auc_score(y_test,y_pred[:,1])"
   ]
  },
  {
   "cell_type": "code",
   "execution_count": 34,
   "metadata": {
    "collapsed": false
   },
   "outputs": [
    {
     "data": {
      "text/plain": [
       "0.99767798"
      ]
     },
     "execution_count": 34,
     "metadata": {},
     "output_type": "execute_result"
    }
   ],
   "source": [
    "test_pred = classifier.predict_proba(np.array(test))\n",
    "test_pred.max()"
   ]
  },
  {
   "cell_type": "code",
   "execution_count": 35,
   "metadata": {
    "collapsed": false
   },
   "outputs": [
    {
     "data": {
      "text/html": [
       "<div>\n",
       "<style scoped>\n",
       "    .dataframe tbody tr th:only-of-type {\n",
       "        vertical-align: middle;\n",
       "    }\n",
       "\n",
       "    .dataframe tbody tr th {\n",
       "        vertical-align: top;\n",
       "    }\n",
       "\n",
       "    .dataframe thead th {\n",
       "        text-align: right;\n",
       "    }\n",
       "</style>\n",
       "<table border=\"1\" class=\"dataframe\">\n",
       "  <thead>\n",
       "    <tr style=\"text-align: right;\">\n",
       "      <th></th>\n",
       "      <th>id</th>\n",
       "      <th>stroke</th>\n",
       "    </tr>\n",
       "  </thead>\n",
       "  <tbody>\n",
       "    <tr>\n",
       "      <th>0</th>\n",
       "      <td>36306</td>\n",
       "      <td>0.012264</td>\n",
       "    </tr>\n",
       "    <tr>\n",
       "      <th>1</th>\n",
       "      <td>61829</td>\n",
       "      <td>0.023151</td>\n",
       "    </tr>\n",
       "    <tr>\n",
       "      <th>2</th>\n",
       "      <td>14152</td>\n",
       "      <td>0.019868</td>\n",
       "    </tr>\n",
       "    <tr>\n",
       "      <th>3</th>\n",
       "      <td>12997</td>\n",
       "      <td>0.029502</td>\n",
       "    </tr>\n",
       "    <tr>\n",
       "      <th>4</th>\n",
       "      <td>40801</td>\n",
       "      <td>0.015789</td>\n",
       "    </tr>\n",
       "  </tbody>\n",
       "</table>\n",
       "</div>"
      ],
      "text/plain": [
       "      id    stroke\n",
       "0  36306  0.012264\n",
       "1  61829  0.023151\n",
       "2  14152  0.019868\n",
       "3  12997  0.029502\n",
       "4  40801  0.015789"
      ]
     },
     "execution_count": 35,
     "metadata": {},
     "output_type": "execute_result"
    }
   ],
   "source": [
    "sample['stroke'] = test_pred[:,1]\n",
    "sample.to_csv('sample_submission.csv',index=False)\n",
    "sample.head()"
   ]
  },
  {
   "cell_type": "code",
   "execution_count": 36,
   "metadata": {
    "collapsed": false
   },
   "outputs": [
    {
     "data": {
      "text/plain": [
       "0.18072312"
      ]
     },
     "execution_count": 36,
     "metadata": {},
     "output_type": "execute_result"
    }
   ],
   "source": [
    "sample.stroke.max()"
   ]
  },
  {
   "cell_type": "code",
   "execution_count": null,
   "metadata": {
    "collapsed": true
   },
   "outputs": [],
   "source": []
  }
 ],
 "metadata": {
  "kernelspec": {
   "display_name": "Python 3",
   "language": "python",
   "name": "python3"
  },
  "language_info": {
   "codemirror_mode": {
    "name": "ipython",
    "version": 3
   },
   "file_extension": ".py",
   "mimetype": "text/x-python",
   "name": "python",
   "nbconvert_exporter": "python",
   "pygments_lexer": "ipython3",
   "version": "3.6.0"
  }
 },
 "nbformat": 4,
 "nbformat_minor": 2
}
