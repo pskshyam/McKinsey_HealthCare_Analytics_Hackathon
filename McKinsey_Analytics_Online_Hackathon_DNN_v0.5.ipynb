{
 "cells": [
  {
   "cell_type": "code",
   "execution_count": 101,
   "metadata": {
    "collapsed": true
   },
   "outputs": [],
   "source": [
    "#Import basic necessary datasets\n",
    "import pandas as pd\n",
    "import numpy as np"
   ]
  },
  {
   "cell_type": "code",
   "execution_count": 334,
   "metadata": {
    "collapsed": true
   },
   "outputs": [],
   "source": [
    "#Read the datasets and view the data\n",
    "train = pd.read_csv('train.csv')\n",
    "test = pd.read_csv('test.csv')\n",
    "sample = pd.read_csv('sample_submission.csv')"
   ]
  },
  {
   "cell_type": "code",
   "execution_count": 103,
   "metadata": {
    "collapsed": false
   },
   "outputs": [
    {
     "data": {
      "text/plain": [
       "id                       0\n",
       "gender                   0\n",
       "age                      0\n",
       "hypertension             0\n",
       "heart_disease            0\n",
       "ever_married             0\n",
       "work_type                0\n",
       "Residence_type           0\n",
       "avg_glucose_level        0\n",
       "bmi                   1462\n",
       "smoking_status       13292\n",
       "stroke                   0\n",
       "dtype: int64"
      ]
     },
     "execution_count": 103,
     "metadata": {},
     "output_type": "execute_result"
    }
   ],
   "source": [
    "train.isnull().sum()"
   ]
  },
  {
   "cell_type": "code",
   "execution_count": 335,
   "metadata": {
    "collapsed": false
   },
   "outputs": [
    {
     "data": {
      "text/html": [
       "<div>\n",
       "<style scoped>\n",
       "    .dataframe tbody tr th:only-of-type {\n",
       "        vertical-align: middle;\n",
       "    }\n",
       "\n",
       "    .dataframe tbody tr th {\n",
       "        vertical-align: top;\n",
       "    }\n",
       "\n",
       "    .dataframe thead th {\n",
       "        text-align: right;\n",
       "    }\n",
       "</style>\n",
       "<table border=\"1\" class=\"dataframe\">\n",
       "  <thead>\n",
       "    <tr style=\"text-align: right;\">\n",
       "      <th></th>\n",
       "      <th>id</th>\n",
       "      <th>gender</th>\n",
       "      <th>age</th>\n",
       "      <th>hypertension</th>\n",
       "      <th>heart_disease</th>\n",
       "      <th>ever_married</th>\n",
       "      <th>work_type</th>\n",
       "      <th>Residence_type</th>\n",
       "      <th>avg_glucose_level</th>\n",
       "      <th>bmi</th>\n",
       "      <th>smoking_status</th>\n",
       "      <th>stroke</th>\n",
       "      <th>diabetes</th>\n",
       "    </tr>\n",
       "  </thead>\n",
       "  <tbody>\n",
       "    <tr>\n",
       "      <th>0</th>\n",
       "      <td>30669</td>\n",
       "      <td>Male</td>\n",
       "      <td>3.0</td>\n",
       "      <td>0</td>\n",
       "      <td>0</td>\n",
       "      <td>No</td>\n",
       "      <td>children</td>\n",
       "      <td>Rural</td>\n",
       "      <td>95.12</td>\n",
       "      <td>18.0</td>\n",
       "      <td>NaN</td>\n",
       "      <td>0</td>\n",
       "      <td>normal</td>\n",
       "    </tr>\n",
       "    <tr>\n",
       "      <th>1</th>\n",
       "      <td>30468</td>\n",
       "      <td>Male</td>\n",
       "      <td>58.0</td>\n",
       "      <td>1</td>\n",
       "      <td>0</td>\n",
       "      <td>Yes</td>\n",
       "      <td>Private</td>\n",
       "      <td>Urban</td>\n",
       "      <td>87.96</td>\n",
       "      <td>39.2</td>\n",
       "      <td>never smoked</td>\n",
       "      <td>0</td>\n",
       "      <td>normal</td>\n",
       "    </tr>\n",
       "    <tr>\n",
       "      <th>2</th>\n",
       "      <td>16523</td>\n",
       "      <td>Female</td>\n",
       "      <td>8.0</td>\n",
       "      <td>0</td>\n",
       "      <td>0</td>\n",
       "      <td>No</td>\n",
       "      <td>Private</td>\n",
       "      <td>Urban</td>\n",
       "      <td>110.89</td>\n",
       "      <td>17.6</td>\n",
       "      <td>NaN</td>\n",
       "      <td>0</td>\n",
       "      <td>normal</td>\n",
       "    </tr>\n",
       "    <tr>\n",
       "      <th>3</th>\n",
       "      <td>56543</td>\n",
       "      <td>Female</td>\n",
       "      <td>70.0</td>\n",
       "      <td>0</td>\n",
       "      <td>0</td>\n",
       "      <td>Yes</td>\n",
       "      <td>Private</td>\n",
       "      <td>Rural</td>\n",
       "      <td>69.04</td>\n",
       "      <td>35.9</td>\n",
       "      <td>formerly smoked</td>\n",
       "      <td>0</td>\n",
       "      <td>normal</td>\n",
       "    </tr>\n",
       "    <tr>\n",
       "      <th>4</th>\n",
       "      <td>46136</td>\n",
       "      <td>Male</td>\n",
       "      <td>14.0</td>\n",
       "      <td>0</td>\n",
       "      <td>0</td>\n",
       "      <td>No</td>\n",
       "      <td>Never_worked</td>\n",
       "      <td>Rural</td>\n",
       "      <td>161.28</td>\n",
       "      <td>19.1</td>\n",
       "      <td>NaN</td>\n",
       "      <td>0</td>\n",
       "      <td>prediabetes</td>\n",
       "    </tr>\n",
       "  </tbody>\n",
       "</table>\n",
       "</div>"
      ],
      "text/plain": [
       "      id  gender   age  hypertension  heart_disease ever_married  \\\n",
       "0  30669    Male   3.0             0              0           No   \n",
       "1  30468    Male  58.0             1              0          Yes   \n",
       "2  16523  Female   8.0             0              0           No   \n",
       "3  56543  Female  70.0             0              0          Yes   \n",
       "4  46136    Male  14.0             0              0           No   \n",
       "\n",
       "      work_type Residence_type  avg_glucose_level   bmi   smoking_status  \\\n",
       "0      children          Rural              95.12  18.0              NaN   \n",
       "1       Private          Urban              87.96  39.2     never smoked   \n",
       "2       Private          Urban             110.89  17.6              NaN   \n",
       "3       Private          Rural              69.04  35.9  formerly smoked   \n",
       "4  Never_worked          Rural             161.28  19.1              NaN   \n",
       "\n",
       "   stroke     diabetes  \n",
       "0       0       normal  \n",
       "1       0       normal  \n",
       "2       0       normal  \n",
       "3       0       normal  \n",
       "4       0  prediabetes  "
      ]
     },
     "execution_count": 335,
     "metadata": {},
     "output_type": "execute_result"
    }
   ],
   "source": [
    "train['diabetes']=''\n",
    "train.loc[(train.avg_glucose_level < 140), 'diabetes'] = 'normal'\n",
    "train.loc[(train.avg_glucose_level >= 140) & (train.avg_glucose_level < 200), 'diabetes'] = 'prediabetes'\n",
    "train.loc[(train.avg_glucose_level >= 200), 'diabetes'] = 'diabetic'\n",
    "train.head()"
   ]
  },
  {
   "cell_type": "code",
   "execution_count": 336,
   "metadata": {
    "collapsed": false
   },
   "outputs": [
    {
     "data": {
      "text/html": [
       "<div>\n",
       "<style scoped>\n",
       "    .dataframe tbody tr th:only-of-type {\n",
       "        vertical-align: middle;\n",
       "    }\n",
       "\n",
       "    .dataframe tbody tr th {\n",
       "        vertical-align: top;\n",
       "    }\n",
       "\n",
       "    .dataframe thead th {\n",
       "        text-align: right;\n",
       "    }\n",
       "</style>\n",
       "<table border=\"1\" class=\"dataframe\">\n",
       "  <thead>\n",
       "    <tr style=\"text-align: right;\">\n",
       "      <th></th>\n",
       "      <th>id</th>\n",
       "      <th>gender</th>\n",
       "      <th>age</th>\n",
       "      <th>hypertension</th>\n",
       "      <th>heart_disease</th>\n",
       "      <th>ever_married</th>\n",
       "      <th>work_type</th>\n",
       "      <th>Residence_type</th>\n",
       "      <th>avg_glucose_level</th>\n",
       "      <th>bmi</th>\n",
       "      <th>smoking_status</th>\n",
       "      <th>diabetes</th>\n",
       "    </tr>\n",
       "  </thead>\n",
       "  <tbody>\n",
       "    <tr>\n",
       "      <th>0</th>\n",
       "      <td>36306</td>\n",
       "      <td>Male</td>\n",
       "      <td>80.0</td>\n",
       "      <td>0</td>\n",
       "      <td>0</td>\n",
       "      <td>Yes</td>\n",
       "      <td>Private</td>\n",
       "      <td>Urban</td>\n",
       "      <td>83.84</td>\n",
       "      <td>21.1</td>\n",
       "      <td>formerly smoked</td>\n",
       "      <td>normal</td>\n",
       "    </tr>\n",
       "    <tr>\n",
       "      <th>1</th>\n",
       "      <td>61829</td>\n",
       "      <td>Female</td>\n",
       "      <td>74.0</td>\n",
       "      <td>0</td>\n",
       "      <td>1</td>\n",
       "      <td>Yes</td>\n",
       "      <td>Self-employed</td>\n",
       "      <td>Rural</td>\n",
       "      <td>179.50</td>\n",
       "      <td>26.0</td>\n",
       "      <td>formerly smoked</td>\n",
       "      <td>prediabetes</td>\n",
       "    </tr>\n",
       "    <tr>\n",
       "      <th>2</th>\n",
       "      <td>14152</td>\n",
       "      <td>Female</td>\n",
       "      <td>14.0</td>\n",
       "      <td>0</td>\n",
       "      <td>0</td>\n",
       "      <td>No</td>\n",
       "      <td>children</td>\n",
       "      <td>Rural</td>\n",
       "      <td>95.16</td>\n",
       "      <td>21.2</td>\n",
       "      <td>NaN</td>\n",
       "      <td>normal</td>\n",
       "    </tr>\n",
       "    <tr>\n",
       "      <th>3</th>\n",
       "      <td>12997</td>\n",
       "      <td>Male</td>\n",
       "      <td>28.0</td>\n",
       "      <td>0</td>\n",
       "      <td>0</td>\n",
       "      <td>No</td>\n",
       "      <td>Private</td>\n",
       "      <td>Urban</td>\n",
       "      <td>94.76</td>\n",
       "      <td>23.4</td>\n",
       "      <td>NaN</td>\n",
       "      <td>normal</td>\n",
       "    </tr>\n",
       "    <tr>\n",
       "      <th>4</th>\n",
       "      <td>40801</td>\n",
       "      <td>Female</td>\n",
       "      <td>63.0</td>\n",
       "      <td>0</td>\n",
       "      <td>0</td>\n",
       "      <td>Yes</td>\n",
       "      <td>Govt_job</td>\n",
       "      <td>Rural</td>\n",
       "      <td>83.57</td>\n",
       "      <td>27.6</td>\n",
       "      <td>never smoked</td>\n",
       "      <td>normal</td>\n",
       "    </tr>\n",
       "  </tbody>\n",
       "</table>\n",
       "</div>"
      ],
      "text/plain": [
       "      id  gender   age  hypertension  heart_disease ever_married  \\\n",
       "0  36306    Male  80.0             0              0          Yes   \n",
       "1  61829  Female  74.0             0              1          Yes   \n",
       "2  14152  Female  14.0             0              0           No   \n",
       "3  12997    Male  28.0             0              0           No   \n",
       "4  40801  Female  63.0             0              0          Yes   \n",
       "\n",
       "       work_type Residence_type  avg_glucose_level   bmi   smoking_status  \\\n",
       "0        Private          Urban              83.84  21.1  formerly smoked   \n",
       "1  Self-employed          Rural             179.50  26.0  formerly smoked   \n",
       "2       children          Rural              95.16  21.2              NaN   \n",
       "3        Private          Urban              94.76  23.4              NaN   \n",
       "4       Govt_job          Rural              83.57  27.6     never smoked   \n",
       "\n",
       "      diabetes  \n",
       "0       normal  \n",
       "1  prediabetes  \n",
       "2       normal  \n",
       "3       normal  \n",
       "4       normal  "
      ]
     },
     "execution_count": 336,
     "metadata": {},
     "output_type": "execute_result"
    }
   ],
   "source": [
    "test['diabetes']=''\n",
    "test.loc[(test.avg_glucose_level < 140), 'diabetes'] = 'normal'\n",
    "test.loc[(test.avg_glucose_level >= 140) & (test.avg_glucose_level < 200), 'diabetes'] = 'prediabetes'\n",
    "test.loc[(test.avg_glucose_level >= 200), 'diabetes'] = 'diabetic'\n",
    "test.head()"
   ]
  },
  {
   "cell_type": "code",
   "execution_count": 325,
   "metadata": {
    "collapsed": false
   },
   "outputs": [
    {
     "data": {
      "text/plain": [
       "array(['normal', 'prediabetes', 'diabetic'], dtype=object)"
      ]
     },
     "execution_count": 325,
     "metadata": {},
     "output_type": "execute_result"
    },
    {
     "data": {
      "text/plain": [
       "array(['normal', 'prediabetes', 'diabetic'], dtype=object)"
      ]
     },
     "execution_count": 325,
     "metadata": {},
     "output_type": "execute_result"
    }
   ],
   "source": [
    "train.diabetes.unique()\n",
    "test.diabetes.unique()"
   ]
  },
  {
   "cell_type": "code",
   "execution_count": 337,
   "metadata": {
    "collapsed": true
   },
   "outputs": [],
   "source": [
    "#filling null values\n",
    "train.bmi.fillna(value=0, axis=0, inplace=True)\n",
    "test.bmi.fillna(value=0, axis=0, inplace=True)\n",
    "\n",
    "train.smoking_status.fillna(value='no information', axis=0, inplace=True)\n",
    "test.smoking_status.fillna(value='no information', axis=0, inplace=True)"
   ]
  },
  {
   "cell_type": "code",
   "execution_count": 338,
   "metadata": {
    "collapsed": false
   },
   "outputs": [
    {
     "data": {
      "text/html": [
       "<div>\n",
       "<style scoped>\n",
       "    .dataframe tbody tr th:only-of-type {\n",
       "        vertical-align: middle;\n",
       "    }\n",
       "\n",
       "    .dataframe tbody tr th {\n",
       "        vertical-align: top;\n",
       "    }\n",
       "\n",
       "    .dataframe thead th {\n",
       "        text-align: right;\n",
       "    }\n",
       "</style>\n",
       "<table border=\"1\" class=\"dataframe\">\n",
       "  <thead>\n",
       "    <tr style=\"text-align: right;\">\n",
       "      <th></th>\n",
       "      <th>id</th>\n",
       "      <th>gender</th>\n",
       "      <th>age</th>\n",
       "      <th>hypertension</th>\n",
       "      <th>heart_disease</th>\n",
       "      <th>ever_married</th>\n",
       "      <th>work_type</th>\n",
       "      <th>Residence_type</th>\n",
       "      <th>avg_glucose_level</th>\n",
       "      <th>bmi</th>\n",
       "      <th>smoking_status</th>\n",
       "      <th>stroke</th>\n",
       "      <th>diabetes</th>\n",
       "      <th>weight</th>\n",
       "    </tr>\n",
       "  </thead>\n",
       "  <tbody>\n",
       "    <tr>\n",
       "      <th>0</th>\n",
       "      <td>30669</td>\n",
       "      <td>Male</td>\n",
       "      <td>3.0</td>\n",
       "      <td>0</td>\n",
       "      <td>0</td>\n",
       "      <td>No</td>\n",
       "      <td>children</td>\n",
       "      <td>Rural</td>\n",
       "      <td>95.12</td>\n",
       "      <td>18.0</td>\n",
       "      <td>no information</td>\n",
       "      <td>0</td>\n",
       "      <td>normal</td>\n",
       "      <td>underweight</td>\n",
       "    </tr>\n",
       "    <tr>\n",
       "      <th>1</th>\n",
       "      <td>30468</td>\n",
       "      <td>Male</td>\n",
       "      <td>58.0</td>\n",
       "      <td>1</td>\n",
       "      <td>0</td>\n",
       "      <td>Yes</td>\n",
       "      <td>Private</td>\n",
       "      <td>Urban</td>\n",
       "      <td>87.96</td>\n",
       "      <td>39.2</td>\n",
       "      <td>never smoked</td>\n",
       "      <td>0</td>\n",
       "      <td>normal</td>\n",
       "      <td>obese</td>\n",
       "    </tr>\n",
       "    <tr>\n",
       "      <th>2</th>\n",
       "      <td>16523</td>\n",
       "      <td>Female</td>\n",
       "      <td>8.0</td>\n",
       "      <td>0</td>\n",
       "      <td>0</td>\n",
       "      <td>No</td>\n",
       "      <td>Private</td>\n",
       "      <td>Urban</td>\n",
       "      <td>110.89</td>\n",
       "      <td>17.6</td>\n",
       "      <td>no information</td>\n",
       "      <td>0</td>\n",
       "      <td>normal</td>\n",
       "      <td>underweight</td>\n",
       "    </tr>\n",
       "    <tr>\n",
       "      <th>3</th>\n",
       "      <td>56543</td>\n",
       "      <td>Female</td>\n",
       "      <td>70.0</td>\n",
       "      <td>0</td>\n",
       "      <td>0</td>\n",
       "      <td>Yes</td>\n",
       "      <td>Private</td>\n",
       "      <td>Rural</td>\n",
       "      <td>69.04</td>\n",
       "      <td>35.9</td>\n",
       "      <td>formerly smoked</td>\n",
       "      <td>0</td>\n",
       "      <td>normal</td>\n",
       "      <td>obese</td>\n",
       "    </tr>\n",
       "    <tr>\n",
       "      <th>4</th>\n",
       "      <td>46136</td>\n",
       "      <td>Male</td>\n",
       "      <td>14.0</td>\n",
       "      <td>0</td>\n",
       "      <td>0</td>\n",
       "      <td>No</td>\n",
       "      <td>Never_worked</td>\n",
       "      <td>Rural</td>\n",
       "      <td>161.28</td>\n",
       "      <td>19.1</td>\n",
       "      <td>no information</td>\n",
       "      <td>0</td>\n",
       "      <td>prediabetes</td>\n",
       "      <td>healthy</td>\n",
       "    </tr>\n",
       "  </tbody>\n",
       "</table>\n",
       "</div>"
      ],
      "text/plain": [
       "      id  gender   age  hypertension  heart_disease ever_married  \\\n",
       "0  30669    Male   3.0             0              0           No   \n",
       "1  30468    Male  58.0             1              0          Yes   \n",
       "2  16523  Female   8.0             0              0           No   \n",
       "3  56543  Female  70.0             0              0          Yes   \n",
       "4  46136    Male  14.0             0              0           No   \n",
       "\n",
       "      work_type Residence_type  avg_glucose_level   bmi   smoking_status  \\\n",
       "0      children          Rural              95.12  18.0   no information   \n",
       "1       Private          Urban              87.96  39.2     never smoked   \n",
       "2       Private          Urban             110.89  17.6   no information   \n",
       "3       Private          Rural              69.04  35.9  formerly smoked   \n",
       "4  Never_worked          Rural             161.28  19.1   no information   \n",
       "\n",
       "   stroke     diabetes       weight  \n",
       "0       0       normal  underweight  \n",
       "1       0       normal        obese  \n",
       "2       0       normal  underweight  \n",
       "3       0       normal        obese  \n",
       "4       0  prediabetes      healthy  "
      ]
     },
     "execution_count": 338,
     "metadata": {},
     "output_type": "execute_result"
    }
   ],
   "source": [
    "train['weight'] = ''\n",
    "train.loc[(train.bmi < 18.5), 'weight'] = 'underweight'\n",
    "train.loc[(train.bmi >= 18.5) & (train.bmi <= 24.9), 'weight'] = 'healthy'\n",
    "train.loc[(train.bmi >= 25) & (train.bmi <= 29.9), 'weight'] = 'overweight'\n",
    "train.loc[(train.bmi >= 30), 'weight'] = 'obese'\n",
    "train.head()"
   ]
  },
  {
   "cell_type": "code",
   "execution_count": 339,
   "metadata": {
    "collapsed": false
   },
   "outputs": [
    {
     "data": {
      "text/html": [
       "<div>\n",
       "<style scoped>\n",
       "    .dataframe tbody tr th:only-of-type {\n",
       "        vertical-align: middle;\n",
       "    }\n",
       "\n",
       "    .dataframe tbody tr th {\n",
       "        vertical-align: top;\n",
       "    }\n",
       "\n",
       "    .dataframe thead th {\n",
       "        text-align: right;\n",
       "    }\n",
       "</style>\n",
       "<table border=\"1\" class=\"dataframe\">\n",
       "  <thead>\n",
       "    <tr style=\"text-align: right;\">\n",
       "      <th></th>\n",
       "      <th>id</th>\n",
       "      <th>gender</th>\n",
       "      <th>age</th>\n",
       "      <th>hypertension</th>\n",
       "      <th>heart_disease</th>\n",
       "      <th>ever_married</th>\n",
       "      <th>work_type</th>\n",
       "      <th>Residence_type</th>\n",
       "      <th>avg_glucose_level</th>\n",
       "      <th>bmi</th>\n",
       "      <th>smoking_status</th>\n",
       "      <th>diabetes</th>\n",
       "      <th>weight</th>\n",
       "    </tr>\n",
       "  </thead>\n",
       "  <tbody>\n",
       "    <tr>\n",
       "      <th>0</th>\n",
       "      <td>36306</td>\n",
       "      <td>Male</td>\n",
       "      <td>80.0</td>\n",
       "      <td>0</td>\n",
       "      <td>0</td>\n",
       "      <td>Yes</td>\n",
       "      <td>Private</td>\n",
       "      <td>Urban</td>\n",
       "      <td>83.84</td>\n",
       "      <td>21.1</td>\n",
       "      <td>formerly smoked</td>\n",
       "      <td>normal</td>\n",
       "      <td>healthy</td>\n",
       "    </tr>\n",
       "    <tr>\n",
       "      <th>1</th>\n",
       "      <td>61829</td>\n",
       "      <td>Female</td>\n",
       "      <td>74.0</td>\n",
       "      <td>0</td>\n",
       "      <td>1</td>\n",
       "      <td>Yes</td>\n",
       "      <td>Self-employed</td>\n",
       "      <td>Rural</td>\n",
       "      <td>179.50</td>\n",
       "      <td>26.0</td>\n",
       "      <td>formerly smoked</td>\n",
       "      <td>prediabetes</td>\n",
       "      <td>overweight</td>\n",
       "    </tr>\n",
       "    <tr>\n",
       "      <th>2</th>\n",
       "      <td>14152</td>\n",
       "      <td>Female</td>\n",
       "      <td>14.0</td>\n",
       "      <td>0</td>\n",
       "      <td>0</td>\n",
       "      <td>No</td>\n",
       "      <td>children</td>\n",
       "      <td>Rural</td>\n",
       "      <td>95.16</td>\n",
       "      <td>21.2</td>\n",
       "      <td>no information</td>\n",
       "      <td>normal</td>\n",
       "      <td>healthy</td>\n",
       "    </tr>\n",
       "    <tr>\n",
       "      <th>3</th>\n",
       "      <td>12997</td>\n",
       "      <td>Male</td>\n",
       "      <td>28.0</td>\n",
       "      <td>0</td>\n",
       "      <td>0</td>\n",
       "      <td>No</td>\n",
       "      <td>Private</td>\n",
       "      <td>Urban</td>\n",
       "      <td>94.76</td>\n",
       "      <td>23.4</td>\n",
       "      <td>no information</td>\n",
       "      <td>normal</td>\n",
       "      <td>healthy</td>\n",
       "    </tr>\n",
       "    <tr>\n",
       "      <th>4</th>\n",
       "      <td>40801</td>\n",
       "      <td>Female</td>\n",
       "      <td>63.0</td>\n",
       "      <td>0</td>\n",
       "      <td>0</td>\n",
       "      <td>Yes</td>\n",
       "      <td>Govt_job</td>\n",
       "      <td>Rural</td>\n",
       "      <td>83.57</td>\n",
       "      <td>27.6</td>\n",
       "      <td>never smoked</td>\n",
       "      <td>normal</td>\n",
       "      <td>overweight</td>\n",
       "    </tr>\n",
       "  </tbody>\n",
       "</table>\n",
       "</div>"
      ],
      "text/plain": [
       "      id  gender   age  hypertension  heart_disease ever_married  \\\n",
       "0  36306    Male  80.0             0              0          Yes   \n",
       "1  61829  Female  74.0             0              1          Yes   \n",
       "2  14152  Female  14.0             0              0           No   \n",
       "3  12997    Male  28.0             0              0           No   \n",
       "4  40801  Female  63.0             0              0          Yes   \n",
       "\n",
       "       work_type Residence_type  avg_glucose_level   bmi   smoking_status  \\\n",
       "0        Private          Urban              83.84  21.1  formerly smoked   \n",
       "1  Self-employed          Rural             179.50  26.0  formerly smoked   \n",
       "2       children          Rural              95.16  21.2   no information   \n",
       "3        Private          Urban              94.76  23.4   no information   \n",
       "4       Govt_job          Rural              83.57  27.6     never smoked   \n",
       "\n",
       "      diabetes      weight  \n",
       "0       normal     healthy  \n",
       "1  prediabetes  overweight  \n",
       "2       normal     healthy  \n",
       "3       normal     healthy  \n",
       "4       normal  overweight  "
      ]
     },
     "execution_count": 339,
     "metadata": {},
     "output_type": "execute_result"
    }
   ],
   "source": [
    "test['weight'] = ''\n",
    "test.loc[(test.bmi < 18.5), 'weight'] = 'underweight'\n",
    "test.loc[(test.bmi >= 18.5) & (test.bmi <= 24.9), 'weight'] = 'healthy'\n",
    "test.loc[(test.bmi >= 25) & (test.bmi <= 29.9), 'weight'] = 'overweight'\n",
    "test.loc[(test.bmi >= 30), 'weight'] = 'obese'\n",
    "test.head()"
   ]
  },
  {
   "cell_type": "code",
   "execution_count": 329,
   "metadata": {
    "collapsed": false
   },
   "outputs": [
    {
     "data": {
      "text/plain": [
       "array(['underweight', 'obese', 'healthy', 'overweight'], dtype=object)"
      ]
     },
     "execution_count": 329,
     "metadata": {},
     "output_type": "execute_result"
    },
    {
     "data": {
      "text/plain": [
       "array(['healthy', 'overweight', 'obese', 'underweight'], dtype=object)"
      ]
     },
     "execution_count": 329,
     "metadata": {},
     "output_type": "execute_result"
    }
   ],
   "source": [
    "train.weight.unique()\n",
    "test.weight.unique()"
   ]
  },
  {
   "cell_type": "code",
   "execution_count": 340,
   "metadata": {
    "collapsed": true
   },
   "outputs": [],
   "source": [
    "#grouping the data\n",
    "train.age = np.digitize(train.age, bins=np.arange(start=train.age.min(),stop=train.age.max(),step=10))\n",
    "test.age = np.digitize(test.age, bins=np.arange(start=test.age.min(),stop=test.age.max(),step=10))\n",
    "\n",
    "train.avg_glucose_level = np.digitize(train.avg_glucose_level, bins=np.arange(start=train.avg_glucose_level.min(),stop=train.avg_glucose_level.max(),step=50))\n",
    "test.avg_glucose_level = np.digitize(test.avg_glucose_level, bins=np.arange(start=test.avg_glucose_level.min(),stop=test.avg_glucose_level.max(),step=50))\n",
    "\n",
    "train.bmi = np.digitize(train.bmi, bins=np.arange(start=train.bmi.min(),stop=train.bmi.max(),step=10))\n",
    "test.bmi = np.digitize(test.bmi, bins=np.arange(start=test.bmi.min(),stop=test.bmi.max(),step=10))"
   ]
  },
  {
   "cell_type": "code",
   "execution_count": 101,
   "metadata": {
    "collapsed": false
   },
   "outputs": [
    {
     "data": {
      "text/plain": [
       "3     20993\n",
       "4     12696\n",
       "2      4930\n",
       "5      2732\n",
       "1      1462\n",
       "6       497\n",
       "7        73\n",
       "8         8\n",
       "9         6\n",
       "10        3\n",
       "Name: bmi, dtype: int64"
      ]
     },
     "execution_count": 101,
     "metadata": {},
     "output_type": "execute_result"
    }
   ],
   "source": [
    "train.bmi.value_counts()"
   ]
  },
  {
   "cell_type": "code",
   "execution_count": 341,
   "metadata": {
    "collapsed": false
   },
   "outputs": [
    {
     "name": "stderr",
     "output_type": "stream",
     "text": [
      "C:\\ProgramData\\Anaconda3\\lib\\site-packages\\ipykernel\\__main__.py:1: SettingWithCopyWarning: \n",
      "A value is trying to be set on a copy of a slice from a DataFrame\n",
      "\n",
      "See the caveats in the documentation: http://pandas.pydata.org/pandas-docs/stable/indexing.html#indexing-view-versus-copy\n",
      "  if __name__ == '__main__':\n",
      "C:\\ProgramData\\Anaconda3\\lib\\site-packages\\ipykernel\\__main__.py:2: SettingWithCopyWarning: \n",
      "A value is trying to be set on a copy of a slice from a DataFrame\n",
      "\n",
      "See the caveats in the documentation: http://pandas.pydata.org/pandas-docs/stable/indexing.html#indexing-view-versus-copy\n",
      "  from ipykernel import kernelapp as app\n"
     ]
    }
   ],
   "source": [
    "train.bmi[train.bmi.isin([7,8,9,10])] = 6\n",
    "test.bmi[test.bmi.isin([7,8,9,10])] = 6"
   ]
  },
  {
   "cell_type": "code",
   "execution_count": 342,
   "metadata": {
    "collapsed": true
   },
   "outputs": [],
   "source": [
    "#drop id column\n",
    "train.drop(columns=['id'], inplace=True)\n",
    "test.drop(columns=['id'], inplace=True)"
   ]
  },
  {
   "cell_type": "code",
   "execution_count": 343,
   "metadata": {
    "collapsed": true
   },
   "outputs": [],
   "source": [
    "#get dummy variables\n",
    "train = pd.get_dummies(train, columns=['gender','ever_married','work_type','Residence_type','smoking_status','weight','diabetes'],drop_first=True)\n",
    "test = pd.get_dummies(test, columns=['gender','ever_married','work_type','Residence_type','smoking_status','weight','diabetes'],drop_first=True)"
   ]
  },
  {
   "cell_type": "code",
   "execution_count": 344,
   "metadata": {
    "collapsed": false
   },
   "outputs": [
    {
     "data": {
      "text/html": [
       "<div>\n",
       "<style scoped>\n",
       "    .dataframe tbody tr th:only-of-type {\n",
       "        vertical-align: middle;\n",
       "    }\n",
       "\n",
       "    .dataframe tbody tr th {\n",
       "        vertical-align: top;\n",
       "    }\n",
       "\n",
       "    .dataframe thead th {\n",
       "        text-align: right;\n",
       "    }\n",
       "</style>\n",
       "<table border=\"1\" class=\"dataframe\">\n",
       "  <thead>\n",
       "    <tr style=\"text-align: right;\">\n",
       "      <th></th>\n",
       "      <th>age</th>\n",
       "      <th>hypertension</th>\n",
       "      <th>heart_disease</th>\n",
       "      <th>avg_glucose_level</th>\n",
       "      <th>bmi</th>\n",
       "      <th>stroke</th>\n",
       "      <th>gender_Male</th>\n",
       "      <th>gender_Other</th>\n",
       "      <th>ever_married_Yes</th>\n",
       "      <th>work_type_Never_worked</th>\n",
       "      <th>...</th>\n",
       "      <th>work_type_children</th>\n",
       "      <th>Residence_type_Urban</th>\n",
       "      <th>smoking_status_never smoked</th>\n",
       "      <th>smoking_status_no information</th>\n",
       "      <th>smoking_status_smokes</th>\n",
       "      <th>weight_obese</th>\n",
       "      <th>weight_overweight</th>\n",
       "      <th>weight_underweight</th>\n",
       "      <th>diabetes_normal</th>\n",
       "      <th>diabetes_prediabetes</th>\n",
       "    </tr>\n",
       "  </thead>\n",
       "  <tbody>\n",
       "    <tr>\n",
       "      <th>0</th>\n",
       "      <td>1</td>\n",
       "      <td>0</td>\n",
       "      <td>0</td>\n",
       "      <td>1</td>\n",
       "      <td>2</td>\n",
       "      <td>0</td>\n",
       "      <td>1</td>\n",
       "      <td>0</td>\n",
       "      <td>0</td>\n",
       "      <td>0</td>\n",
       "      <td>...</td>\n",
       "      <td>1</td>\n",
       "      <td>0</td>\n",
       "      <td>0</td>\n",
       "      <td>1</td>\n",
       "      <td>0</td>\n",
       "      <td>0</td>\n",
       "      <td>0</td>\n",
       "      <td>1</td>\n",
       "      <td>1</td>\n",
       "      <td>0</td>\n",
       "    </tr>\n",
       "    <tr>\n",
       "      <th>1</th>\n",
       "      <td>6</td>\n",
       "      <td>1</td>\n",
       "      <td>0</td>\n",
       "      <td>1</td>\n",
       "      <td>4</td>\n",
       "      <td>0</td>\n",
       "      <td>1</td>\n",
       "      <td>0</td>\n",
       "      <td>1</td>\n",
       "      <td>0</td>\n",
       "      <td>...</td>\n",
       "      <td>0</td>\n",
       "      <td>1</td>\n",
       "      <td>1</td>\n",
       "      <td>0</td>\n",
       "      <td>0</td>\n",
       "      <td>1</td>\n",
       "      <td>0</td>\n",
       "      <td>0</td>\n",
       "      <td>1</td>\n",
       "      <td>0</td>\n",
       "    </tr>\n",
       "    <tr>\n",
       "      <th>2</th>\n",
       "      <td>1</td>\n",
       "      <td>0</td>\n",
       "      <td>0</td>\n",
       "      <td>2</td>\n",
       "      <td>2</td>\n",
       "      <td>0</td>\n",
       "      <td>0</td>\n",
       "      <td>0</td>\n",
       "      <td>0</td>\n",
       "      <td>0</td>\n",
       "      <td>...</td>\n",
       "      <td>0</td>\n",
       "      <td>1</td>\n",
       "      <td>0</td>\n",
       "      <td>1</td>\n",
       "      <td>0</td>\n",
       "      <td>0</td>\n",
       "      <td>0</td>\n",
       "      <td>1</td>\n",
       "      <td>1</td>\n",
       "      <td>0</td>\n",
       "    </tr>\n",
       "    <tr>\n",
       "      <th>3</th>\n",
       "      <td>7</td>\n",
       "      <td>0</td>\n",
       "      <td>0</td>\n",
       "      <td>1</td>\n",
       "      <td>4</td>\n",
       "      <td>0</td>\n",
       "      <td>0</td>\n",
       "      <td>0</td>\n",
       "      <td>1</td>\n",
       "      <td>0</td>\n",
       "      <td>...</td>\n",
       "      <td>0</td>\n",
       "      <td>0</td>\n",
       "      <td>0</td>\n",
       "      <td>0</td>\n",
       "      <td>0</td>\n",
       "      <td>1</td>\n",
       "      <td>0</td>\n",
       "      <td>0</td>\n",
       "      <td>1</td>\n",
       "      <td>0</td>\n",
       "    </tr>\n",
       "    <tr>\n",
       "      <th>4</th>\n",
       "      <td>2</td>\n",
       "      <td>0</td>\n",
       "      <td>0</td>\n",
       "      <td>3</td>\n",
       "      <td>2</td>\n",
       "      <td>0</td>\n",
       "      <td>1</td>\n",
       "      <td>0</td>\n",
       "      <td>0</td>\n",
       "      <td>1</td>\n",
       "      <td>...</td>\n",
       "      <td>0</td>\n",
       "      <td>0</td>\n",
       "      <td>0</td>\n",
       "      <td>1</td>\n",
       "      <td>0</td>\n",
       "      <td>0</td>\n",
       "      <td>0</td>\n",
       "      <td>0</td>\n",
       "      <td>0</td>\n",
       "      <td>1</td>\n",
       "    </tr>\n",
       "  </tbody>\n",
       "</table>\n",
       "<p>5 rows × 22 columns</p>\n",
       "</div>"
      ],
      "text/plain": [
       "   age  hypertension  heart_disease  avg_glucose_level  bmi  stroke  \\\n",
       "0    1             0              0                  1    2       0   \n",
       "1    6             1              0                  1    4       0   \n",
       "2    1             0              0                  2    2       0   \n",
       "3    7             0              0                  1    4       0   \n",
       "4    2             0              0                  3    2       0   \n",
       "\n",
       "   gender_Male  gender_Other  ever_married_Yes  work_type_Never_worked  \\\n",
       "0            1             0                 0                       0   \n",
       "1            1             0                 1                       0   \n",
       "2            0             0                 0                       0   \n",
       "3            0             0                 1                       0   \n",
       "4            1             0                 0                       1   \n",
       "\n",
       "           ...           work_type_children  Residence_type_Urban  \\\n",
       "0          ...                            1                     0   \n",
       "1          ...                            0                     1   \n",
       "2          ...                            0                     1   \n",
       "3          ...                            0                     0   \n",
       "4          ...                            0                     0   \n",
       "\n",
       "   smoking_status_never smoked  smoking_status_no information  \\\n",
       "0                            0                              1   \n",
       "1                            1                              0   \n",
       "2                            0                              1   \n",
       "3                            0                              0   \n",
       "4                            0                              1   \n",
       "\n",
       "   smoking_status_smokes  weight_obese  weight_overweight  weight_underweight  \\\n",
       "0                      0             0                  0                   1   \n",
       "1                      0             1                  0                   0   \n",
       "2                      0             0                  0                   1   \n",
       "3                      0             1                  0                   0   \n",
       "4                      0             0                  0                   0   \n",
       "\n",
       "   diabetes_normal  diabetes_prediabetes  \n",
       "0                1                     0  \n",
       "1                1                     0  \n",
       "2                1                     0  \n",
       "3                1                     0  \n",
       "4                0                     1  \n",
       "\n",
       "[5 rows x 22 columns]"
      ]
     },
     "execution_count": 344,
     "metadata": {},
     "output_type": "execute_result"
    }
   ],
   "source": [
    "train.head()"
   ]
  },
  {
   "cell_type": "code",
   "execution_count": 345,
   "metadata": {
    "collapsed": false
   },
   "outputs": [
    {
     "data": {
      "text/plain": [
       "Index(['age', 'hypertension', 'heart_disease', 'avg_glucose_level', 'bmi',\n",
       "       'stroke', 'gender_Male', 'gender_Other', 'ever_married_Yes',\n",
       "       'work_type_Never_worked', 'work_type_Private',\n",
       "       'work_type_Self-employed', 'work_type_children', 'Residence_type_Urban',\n",
       "       'smoking_status_never smoked', 'smoking_status_no information',\n",
       "       'smoking_status_smokes', 'weight_obese', 'weight_overweight',\n",
       "       'weight_underweight', 'diabetes_normal', 'diabetes_prediabetes'],\n",
       "      dtype='object')"
      ]
     },
     "execution_count": 345,
     "metadata": {},
     "output_type": "execute_result"
    }
   ],
   "source": [
    "train.columns"
   ]
  },
  {
   "cell_type": "code",
   "execution_count": 346,
   "metadata": {
    "collapsed": false
   },
   "outputs": [],
   "source": [
    "#Take independent features into x and depenent feature into y\n",
    "X = train.drop('stroke',axis=1)\n",
    "y = train.stroke"
   ]
  },
  {
   "cell_type": "code",
   "execution_count": 246,
   "metadata": {
    "collapsed": true
   },
   "outputs": [],
   "source": [
    "from sklearn.preprocessing import StandardScaler\n",
    "std = StandardScaler()\n",
    "X_scaled = std.fit_transform(X)"
   ]
  },
  {
   "cell_type": "code",
   "execution_count": 347,
   "metadata": {
    "collapsed": true
   },
   "outputs": [],
   "source": [
    "#train test split\n",
    "from sklearn.model_selection import train_test_split\n",
    "X_train, X_test, y_train, y_test = train_test_split(X, y, test_size = 0.2, random_state=123)\n",
    "X_train = np.array(X_train)\n",
    "X_test = np.array(X_test)"
   ]
  },
  {
   "cell_type": "code",
   "execution_count": 348,
   "metadata": {
    "collapsed": false
   },
   "outputs": [],
   "source": [
    "#import keras libraries\n",
    "from keras.wrappers.scikit_learn import KerasClassifier\n",
    "from sklearn.model_selection import cross_val_score\n",
    "from keras.models import Sequential\n",
    "from keras.layers import Dense\n",
    "from keras import optimizers"
   ]
  },
  {
   "cell_type": "code",
   "execution_count": 353,
   "metadata": {
    "collapsed": true
   },
   "outputs": [],
   "source": [
    "#build a classifier function\n",
    "def build_classifier():\n",
    "    classifier = Sequential()  # initiate the model\n",
    "    classifier.add(Dense(60, input_shape=(21,), activation='relu')) # input layer\n",
    "    classifier.add(Dense(120, activation='relu'))                  # hidden layer\n",
    "    classifier.add(Dense(80, activation='relu'))                  # hidden layer\n",
    "    classifier.add(Dense(50, activation='relu'))                  # hidden layer\n",
    "    classifier.add(Dense(1, activation = 'sigmoid')) #output layer\n",
    "    #rmsprop = optimizers.RMSprop()\n",
    "    classifier.compile(loss = 'binary_crossentropy', optimizer = 'Adam', metrics = ['accuracy'])\n",
    "    return classifier"
   ]
  },
  {
   "cell_type": "code",
   "execution_count": 354,
   "metadata": {
    "collapsed": true
   },
   "outputs": [],
   "source": [
    "#create a KerasClassifier object and call build_classifier function\n",
    "classifier = KerasClassifier(build_fn=build_classifier, batch_size=1000, nb_epoch=20, verbose=2)"
   ]
  },
  {
   "cell_type": "code",
   "execution_count": 351,
   "metadata": {
    "collapsed": true
   },
   "outputs": [],
   "source": [
    "from IPython.core.interactiveshell import InteractiveShell #To print multiple outputs\n",
    "InteractiveShell.ast_node_interactivity = 'all'"
   ]
  },
  {
   "cell_type": "code",
   "execution_count": 355,
   "metadata": {
    "collapsed": false
   },
   "outputs": [
    {
     "name": "stdout",
     "output_type": "stream",
     "text": [
      "Epoch 1/10\n",
      " - 11s - loss: 0.2475 - acc: 0.9199\n",
      "Epoch 2/10\n",
      " - 0s - loss: 0.0959 - acc: 0.9821\n",
      "Epoch 3/10\n",
      " - 0s - loss: 0.0777 - acc: 0.9821\n",
      "Epoch 4/10\n",
      " - 0s - loss: 0.0753 - acc: 0.9821\n",
      "Epoch 5/10\n",
      " - 0s - loss: 0.0746 - acc: 0.9821\n",
      "Epoch 6/10\n",
      " - 0s - loss: 0.0739 - acc: 0.9821\n",
      "Epoch 7/10\n",
      " - 0s - loss: 0.0736 - acc: 0.9821\n",
      "Epoch 8/10\n",
      " - 0s - loss: 0.0734 - acc: 0.9821\n",
      "Epoch 9/10\n",
      " - 0s - loss: 0.0731 - acc: 0.9821\n",
      "Epoch 10/10\n",
      " - 0s - loss: 0.0732 - acc: 0.9821\n",
      "Epoch 1/10\n",
      " - 9s - loss: 0.1944 - acc: 0.9598\n",
      "Epoch 2/10\n",
      " - 0s - loss: 0.0955 - acc: 0.9821\n",
      "Epoch 3/10\n",
      " - 0s - loss: 0.0779 - acc: 0.9821\n",
      "Epoch 4/10\n",
      " - 0s - loss: 0.0749 - acc: 0.9821\n",
      "Epoch 5/10\n",
      " - 0s - loss: 0.0739 - acc: 0.9821\n",
      "Epoch 6/10\n",
      " - 0s - loss: 0.0735 - acc: 0.9821\n",
      "Epoch 7/10\n",
      " - 0s - loss: 0.0733 - acc: 0.9821\n",
      "Epoch 8/10\n",
      " - 0s - loss: 0.0730 - acc: 0.9821\n",
      "Epoch 9/10\n",
      " - 0s - loss: 0.0729 - acc: 0.9821\n",
      "Epoch 10/10\n",
      " - 0s - loss: 0.0724 - acc: 0.9821\n",
      "Epoch 1/10\n",
      " - 8s - loss: 0.1901 - acc: 0.9807\n",
      "Epoch 2/10\n",
      " - 0s - loss: 0.0888 - acc: 0.9819\n",
      "Epoch 3/10\n",
      " - 0s - loss: 0.0785 - acc: 0.9819\n",
      "Epoch 4/10\n",
      " - 0s - loss: 0.0757 - acc: 0.9819\n",
      "Epoch 5/10\n",
      " - 0s - loss: 0.0749 - acc: 0.9819\n",
      "Epoch 6/10\n",
      " - 0s - loss: 0.0745 - acc: 0.9819\n",
      "Epoch 7/10\n",
      " - 0s - loss: 0.0744 - acc: 0.9819\n",
      "Epoch 8/10\n",
      " - 0s - loss: 0.0743 - acc: 0.9819\n",
      "Epoch 9/10\n",
      " - 0s - loss: 0.0740 - acc: 0.9819\n",
      "Epoch 10/10\n",
      " - 0s - loss: 0.0732 - acc: 0.9819\n",
      "Epoch 1/10\n",
      " - 11s - loss: 0.2319 - acc: 0.9224\n",
      "Epoch 2/10\n",
      " - 0s - loss: 0.0922 - acc: 0.9821\n",
      "Epoch 3/10\n",
      " - 0s - loss: 0.0787 - acc: 0.9821\n",
      "Epoch 4/10\n",
      " - 0s - loss: 0.0759 - acc: 0.9821\n",
      "Epoch 5/10\n",
      " - 0s - loss: 0.0753 - acc: 0.9821\n",
      "Epoch 6/10\n",
      " - 0s - loss: 0.0744 - acc: 0.9821\n",
      "Epoch 7/10\n",
      " - 0s - loss: 0.0738 - acc: 0.9821\n",
      "Epoch 8/10\n",
      " - 0s - loss: 0.0737 - acc: 0.9821\n",
      "Epoch 9/10\n",
      " - 0s - loss: 0.0734 - acc: 0.9821\n",
      "Epoch 10/10\n",
      " - 0s - loss: 0.0735 - acc: 0.9821\n",
      "Epoch 1/10\n",
      " - 9s - loss: 0.2372 - acc: 0.9250\n",
      "Epoch 2/10\n",
      " - 0s - loss: 0.0968 - acc: 0.9821\n",
      "Epoch 3/10\n",
      " - 0s - loss: 0.0784 - acc: 0.9821\n",
      "Epoch 4/10\n",
      " - 0s - loss: 0.0753 - acc: 0.9821\n",
      "Epoch 5/10\n",
      " - 1s - loss: 0.0741 - acc: 0.9821\n",
      "Epoch 6/10\n",
      " - 1s - loss: 0.0734 - acc: 0.9821\n",
      "Epoch 7/10\n",
      " - 0s - loss: 0.0733 - acc: 0.9821\n",
      "Epoch 8/10\n",
      " - 0s - loss: 0.0725 - acc: 0.9821\n",
      "Epoch 9/10\n",
      " - 0s - loss: 0.0724 - acc: 0.9821\n",
      "Epoch 10/10\n",
      " - 0s - loss: 0.0723 - acc: 0.9821\n",
      "Epoch 1/10\n",
      " - 13s - loss: 0.1828 - acc: 0.9803\n",
      "Epoch 2/10\n",
      " - 0s - loss: 0.0880 - acc: 0.9823\n",
      "Epoch 3/10\n",
      " - 0s - loss: 0.0764 - acc: 0.9823\n",
      "Epoch 4/10\n",
      " - 0s - loss: 0.0745 - acc: 0.9823\n",
      "Epoch 5/10\n",
      " - 0s - loss: 0.0743 - acc: 0.9823\n",
      "Epoch 6/10\n",
      " - 0s - loss: 0.0736 - acc: 0.9823\n",
      "Epoch 7/10\n",
      " - 0s - loss: 0.0733 - acc: 0.9823\n",
      "Epoch 8/10\n",
      " - 0s - loss: 0.0730 - acc: 0.9823\n",
      "Epoch 9/10\n",
      " - 0s - loss: 0.0728 - acc: 0.9823\n",
      "Epoch 10/10\n",
      " - 0s - loss: 0.0725 - acc: 0.9823\n",
      "Epoch 1/10\n",
      " - 9s - loss: 0.1328 - acc: 0.9822\n",
      "Epoch 2/10\n",
      " - 0s - loss: 0.0791 - acc: 0.9822\n",
      "Epoch 3/10\n",
      " - 0s - loss: 0.0753 - acc: 0.9822\n",
      "Epoch 4/10\n",
      " - 0s - loss: 0.0746 - acc: 0.9822\n",
      "Epoch 5/10\n",
      " - 0s - loss: 0.0741 - acc: 0.9822\n",
      "Epoch 6/10\n",
      " - 0s - loss: 0.0735 - acc: 0.9822\n",
      "Epoch 7/10\n",
      " - 0s - loss: 0.0732 - acc: 0.9822\n",
      "Epoch 8/10\n",
      " - 0s - loss: 0.0731 - acc: 0.9822\n",
      "Epoch 9/10\n",
      " - 0s - loss: 0.0724 - acc: 0.9822\n",
      "Epoch 10/10\n",
      " - 0s - loss: 0.0723 - acc: 0.9822\n",
      "Epoch 1/10\n",
      " - 9s - loss: 0.2680 - acc: 0.8906\n",
      "Epoch 2/10\n",
      " - 0s - loss: 0.0977 - acc: 0.9821\n",
      "Epoch 3/10\n",
      " - 0s - loss: 0.0783 - acc: 0.9821\n",
      "Epoch 4/10\n",
      " - 0s - loss: 0.0752 - acc: 0.9821\n",
      "Epoch 5/10\n",
      " - 0s - loss: 0.0748 - acc: 0.9821\n",
      "Epoch 6/10\n",
      " - 0s - loss: 0.0741 - acc: 0.9821\n",
      "Epoch 7/10\n",
      " - 0s - loss: 0.0738 - acc: 0.9821\n",
      "Epoch 8/10\n",
      " - 0s - loss: 0.0735 - acc: 0.9821\n",
      "Epoch 9/10\n",
      " - 0s - loss: 0.0733 - acc: 0.9821\n",
      "Epoch 10/10\n",
      " - 0s - loss: 0.0729 - acc: 0.9821\n",
      "Epoch 1/10\n",
      " - 9s - loss: 0.1789 - acc: 0.9819\n",
      "Epoch 2/10\n",
      " - 0s - loss: 0.0825 - acc: 0.9819\n",
      "Epoch 3/10\n",
      " - 0s - loss: 0.0770 - acc: 0.9819\n",
      "Epoch 4/10\n",
      " - 0s - loss: 0.0756 - acc: 0.9819\n",
      "Epoch 5/10\n",
      " - 0s - loss: 0.0751 - acc: 0.9819\n",
      "Epoch 6/10\n",
      " - 0s - loss: 0.0743 - acc: 0.9819\n",
      "Epoch 7/10\n",
      " - 0s - loss: 0.0743 - acc: 0.9819\n",
      "Epoch 8/10\n",
      " - 0s - loss: 0.0738 - acc: 0.9819\n",
      "Epoch 9/10\n",
      " - 0s - loss: 0.0736 - acc: 0.9819\n",
      "Epoch 10/10\n",
      " - 0s - loss: 0.0734 - acc: 0.9819\n",
      "Epoch 1/10\n",
      " - 10s - loss: 0.2551 - acc: 0.9195\n",
      "Epoch 2/10\n",
      " - 0s - loss: 0.0900 - acc: 0.9823\n",
      "Epoch 3/10\n",
      " - 0s - loss: 0.0764 - acc: 0.9823\n",
      "Epoch 4/10\n",
      " - 0s - loss: 0.0745 - acc: 0.9823\n",
      "Epoch 5/10\n",
      " - 0s - loss: 0.0737 - acc: 0.9823\n",
      "Epoch 6/10\n",
      " - 0s - loss: 0.0732 - acc: 0.9823\n",
      "Epoch 7/10\n",
      " - 0s - loss: 0.0724 - acc: 0.9823\n",
      "Epoch 8/10\n",
      " - 0s - loss: 0.0721 - acc: 0.9823\n",
      "Epoch 9/10\n",
      " - 0s - loss: 0.0720 - acc: 0.9823\n",
      "Epoch 10/10\n",
      " - 0s - loss: 0.0718 - acc: 0.9823\n"
     ]
    }
   ],
   "source": [
    "accuracies = cross_val_score(classifier, X_train, y_train, cv=10)"
   ]
  },
  {
   "cell_type": "code",
   "execution_count": 356,
   "metadata": {
    "collapsed": false
   },
   "outputs": [
    {
     "data": {
      "text/plain": [
       "0.98211405593129353"
      ]
     },
     "execution_count": 356,
     "metadata": {},
     "output_type": "execute_result"
    },
    {
     "data": {
      "text/plain": [
       "0.0012113863358717109"
      ]
     },
     "execution_count": 356,
     "metadata": {},
     "output_type": "execute_result"
    }
   ],
   "source": [
    "accuracies.mean()\n",
    "accuracies.std()"
   ]
  },
  {
   "cell_type": "code",
   "execution_count": 357,
   "metadata": {
    "collapsed": false
   },
   "outputs": [
    {
     "name": "stdout",
     "output_type": "stream",
     "text": [
      "Epoch 1/10\n",
      " - 9s - loss: 0.2130 - acc: 0.9417\n",
      "Epoch 2/10\n",
      " - 0s - loss: 0.0832 - acc: 0.9821\n",
      "Epoch 3/10\n",
      " - 0s - loss: 0.0761 - acc: 0.9821\n",
      "Epoch 4/10\n",
      " - 0s - loss: 0.0748 - acc: 0.9821\n",
      "Epoch 5/10\n",
      " - 0s - loss: 0.0744 - acc: 0.9821\n",
      "Epoch 6/10\n",
      " - 0s - loss: 0.0738 - acc: 0.9821\n",
      "Epoch 7/10\n",
      " - 0s - loss: 0.0733 - acc: 0.9821\n",
      "Epoch 8/10\n",
      " - 0s - loss: 0.0734 - acc: 0.9821\n",
      "Epoch 9/10\n",
      " - 0s - loss: 0.0729 - acc: 0.9821\n",
      "Epoch 10/10\n",
      " - 0s - loss: 0.0726 - acc: 0.9821\n"
     ]
    },
    {
     "data": {
      "text/plain": [
       "<keras.callbacks.History at 0x13cc23b70>"
      ]
     },
     "execution_count": 357,
     "metadata": {},
     "output_type": "execute_result"
    }
   ],
   "source": [
    "classifier.fit(X_train, y_train)"
   ]
  },
  {
   "cell_type": "code",
   "execution_count": 358,
   "metadata": {
    "collapsed": false
   },
   "outputs": [
    {
     "data": {
      "text/plain": [
       "0.84593917310908773"
      ]
     },
     "execution_count": 358,
     "metadata": {},
     "output_type": "execute_result"
    }
   ],
   "source": [
    "from sklearn import metrics\n",
    "y_pred = classifier.predict_proba(X_test)\n",
    "metrics.roc_auc_score(y_test,y_pred[:,1])"
   ]
  },
  {
   "cell_type": "code",
   "execution_count": 359,
   "metadata": {
    "collapsed": false
   },
   "outputs": [
    {
     "data": {
      "text/plain": [
       "0.99999994"
      ]
     },
     "execution_count": 359,
     "metadata": {},
     "output_type": "execute_result"
    }
   ],
   "source": [
    "test_pred = classifier.predict_proba(np.array(test))\n",
    "test_pred.max()"
   ]
  },
  {
   "cell_type": "code",
   "execution_count": 360,
   "metadata": {
    "collapsed": false
   },
   "outputs": [
    {
     "data": {
      "text/html": [
       "<div>\n",
       "<style scoped>\n",
       "    .dataframe tbody tr th:only-of-type {\n",
       "        vertical-align: middle;\n",
       "    }\n",
       "\n",
       "    .dataframe tbody tr th {\n",
       "        vertical-align: top;\n",
       "    }\n",
       "\n",
       "    .dataframe thead th {\n",
       "        text-align: right;\n",
       "    }\n",
       "</style>\n",
       "<table border=\"1\" class=\"dataframe\">\n",
       "  <thead>\n",
       "    <tr style=\"text-align: right;\">\n",
       "      <th></th>\n",
       "      <th>id</th>\n",
       "      <th>stroke</th>\n",
       "    </tr>\n",
       "  </thead>\n",
       "  <tbody>\n",
       "    <tr>\n",
       "      <th>0</th>\n",
       "      <td>36306</td>\n",
       "      <td>0.075282</td>\n",
       "    </tr>\n",
       "    <tr>\n",
       "      <th>1</th>\n",
       "      <td>61829</td>\n",
       "      <td>0.084545</td>\n",
       "    </tr>\n",
       "    <tr>\n",
       "      <th>2</th>\n",
       "      <td>14152</td>\n",
       "      <td>0.000272</td>\n",
       "    </tr>\n",
       "    <tr>\n",
       "      <th>3</th>\n",
       "      <td>12997</td>\n",
       "      <td>0.000651</td>\n",
       "    </tr>\n",
       "    <tr>\n",
       "      <th>4</th>\n",
       "      <td>40801</td>\n",
       "      <td>0.017336</td>\n",
       "    </tr>\n",
       "  </tbody>\n",
       "</table>\n",
       "</div>"
      ],
      "text/plain": [
       "      id    stroke\n",
       "0  36306  0.075282\n",
       "1  61829  0.084545\n",
       "2  14152  0.000272\n",
       "3  12997  0.000651\n",
       "4  40801  0.017336"
      ]
     },
     "execution_count": 360,
     "metadata": {},
     "output_type": "execute_result"
    }
   ],
   "source": [
    "sample['stroke'] = test_pred[:,1]\n",
    "sample.to_csv('sample_submission.csv',index=False)\n",
    "sample.head()"
   ]
  },
  {
   "cell_type": "code",
   "execution_count": 361,
   "metadata": {
    "collapsed": false
   },
   "outputs": [
    {
     "data": {
      "text/plain": [
       "4.1780297e-08"
      ]
     },
     "execution_count": 361,
     "metadata": {},
     "output_type": "execute_result"
    },
    {
     "data": {
      "text/plain": [
       "0.23192565"
      ]
     },
     "execution_count": 361,
     "metadata": {},
     "output_type": "execute_result"
    }
   ],
   "source": [
    "sample.stroke.min()\n",
    "sample.stroke.max()"
   ]
  }
 ],
 "metadata": {
  "kernelspec": {
   "display_name": "Python 3",
   "language": "python",
   "name": "python3"
  },
  "language_info": {
   "codemirror_mode": {
    "name": "ipython",
    "version": 3
   },
   "file_extension": ".py",
   "mimetype": "text/x-python",
   "name": "python",
   "nbconvert_exporter": "python",
   "pygments_lexer": "ipython3",
   "version": "3.6.0"
  }
 },
 "nbformat": 4,
 "nbformat_minor": 2
}
