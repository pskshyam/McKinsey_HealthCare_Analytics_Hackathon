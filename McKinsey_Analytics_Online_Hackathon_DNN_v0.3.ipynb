{
 "cells": [
  {
   "cell_type": "code",
   "execution_count": 1,
   "metadata": {
    "collapsed": true
   },
   "outputs": [],
   "source": [
    "#Import basic necessary datasets\n",
    "import pandas as pd\n",
    "import numpy as np"
   ]
  },
  {
   "cell_type": "code",
   "execution_count": 193,
   "metadata": {
    "collapsed": true
   },
   "outputs": [],
   "source": [
    "#Read the datasets and view the data\n",
    "train = pd.read_csv('train.csv')\n",
    "test = pd.read_csv('test.csv')\n",
    "sample = pd.read_csv('sample_submission.csv')"
   ]
  },
  {
   "cell_type": "code",
   "execution_count": 3,
   "metadata": {
    "collapsed": true
   },
   "outputs": [],
   "source": [
    "#filling null values\n",
    "train.bmi.fillna(value=0, axis=0, inplace=True)\n",
    "test.bmi.fillna(value=0, axis=0, inplace=True)\n",
    "\n",
    "train.smoking_status.fillna(value='no information', axis=0, inplace=True)\n",
    "test.smoking_status.fillna(value='no information', axis=0, inplace=True)"
   ]
  },
  {
   "cell_type": "code",
   "execution_count": 4,
   "metadata": {
    "collapsed": true
   },
   "outputs": [],
   "source": [
    "#grouping the data\n",
    "train.age = np.digitize(train.age, bins=np.arange(start=train.age.min(),stop=train.age.max(),step=10))\n",
    "test.age = np.digitize(test.age, bins=np.arange(start=test.age.min(),stop=test.age.max(),step=10))\n",
    "\n",
    "train.avg_glucose_level = np.digitize(train.avg_glucose_level, bins=np.arange(start=train.avg_glucose_level.min(),stop=train.avg_glucose_level.max(),step=50))\n",
    "test.avg_glucose_level = np.digitize(test.avg_glucose_level, bins=np.arange(start=test.avg_glucose_level.min(),stop=test.avg_glucose_level.max(),step=50))\n",
    "\n",
    "train.bmi = np.digitize(train.bmi, bins=np.arange(start=train.bmi.min(),stop=train.bmi.max(),step=10))\n",
    "test.bmi = np.digitize(test.bmi, bins=np.arange(start=test.bmi.min(),stop=test.bmi.max(),step=10))"
   ]
  },
  {
   "cell_type": "code",
   "execution_count": 5,
   "metadata": {
    "collapsed": false
   },
   "outputs": [
    {
     "name": "stderr",
     "output_type": "stream",
     "text": [
      "C:\\ProgramData\\Anaconda3\\lib\\site-packages\\ipykernel\\__main__.py:1: SettingWithCopyWarning: \n",
      "A value is trying to be set on a copy of a slice from a DataFrame\n",
      "\n",
      "See the caveats in the documentation: http://pandas.pydata.org/pandas-docs/stable/indexing.html#indexing-view-versus-copy\n",
      "  if __name__ == '__main__':\n",
      "C:\\ProgramData\\Anaconda3\\lib\\site-packages\\ipykernel\\__main__.py:2: SettingWithCopyWarning: \n",
      "A value is trying to be set on a copy of a slice from a DataFrame\n",
      "\n",
      "See the caveats in the documentation: http://pandas.pydata.org/pandas-docs/stable/indexing.html#indexing-view-versus-copy\n",
      "  from ipykernel import kernelapp as app\n"
     ]
    }
   ],
   "source": [
    "train.bmi[train.bmi.isin([7,8,9])] = 6\n",
    "test.bmi[test.bmi.isin([7,8,9])] = 6"
   ]
  },
  {
   "cell_type": "code",
   "execution_count": 6,
   "metadata": {
    "collapsed": true
   },
   "outputs": [],
   "source": [
    "#drop id column\n",
    "train.drop(columns=['id'], inplace=True)\n",
    "test.drop(columns=['id'], inplace=True)"
   ]
  },
  {
   "cell_type": "code",
   "execution_count": 7,
   "metadata": {
    "collapsed": true
   },
   "outputs": [],
   "source": [
    "#get dummy variables\n",
    "train = pd.get_dummies(train, columns=['gender','age','ever_married','work_type','Residence_type','avg_glucose_level','bmi','smoking_status'],drop_first=True)\n",
    "test = pd.get_dummies(test, columns=['gender','age','ever_married','work_type','Residence_type','avg_glucose_level','bmi','smoking_status'],drop_first=True)"
   ]
  },
  {
   "cell_type": "code",
   "execution_count": 8,
   "metadata": {
    "collapsed": false
   },
   "outputs": [],
   "source": [
    "#Take independent features into x and depenent feature into y\n",
    "X = train.drop('stroke', axis=1)\n",
    "y = train.stroke"
   ]
  },
  {
   "cell_type": "code",
   "execution_count": 9,
   "metadata": {
    "collapsed": true
   },
   "outputs": [],
   "source": [
    "#train test split\n",
    "from sklearn.model_selection import train_test_split\n",
    "X_train, X_test, y_train, y_test = train_test_split(X, y, test_size = 0.2, random_state=123)\n",
    "X_train = np.array(X_train)\n",
    "X_test = np.array(X_test)"
   ]
  },
  {
   "cell_type": "code",
   "execution_count": 32,
   "metadata": {
    "collapsed": false
   },
   "outputs": [],
   "source": [
    "#import keras libraries\n",
    "from keras.wrappers.scikit_learn import KerasClassifier\n",
    "from sklearn.model_selection import cross_val_score\n",
    "from keras.models import Sequential\n",
    "from keras.layers import Dense\n",
    "from keras import optimizers"
   ]
  },
  {
   "cell_type": "code",
   "execution_count": 164,
   "metadata": {
    "collapsed": true
   },
   "outputs": [],
   "source": [
    "#build a classifier function\n",
    "def build_classifier():\n",
    "    classifier = Sequential()  # initiate the model\n",
    "    classifier.add(Dense(100, input_shape=(30,), activation='relu')) # input layer\n",
    "    classifier.add(Dense(150, activation='relu'))                  # hidden layer\n",
    "    classifier.add(Dense(50, activation='relu'))                  # hidden layer\n",
    "    #classifier.add(Dense(50, activation='relu'))                  # hidden layer\n",
    "    #classifier.add(Dropout(0.25))\n",
    "    classifier.add(Dense(1, activation = 'sigmoid')) #output layer\n",
    "    rmsprop = optimizers.RMSprop()\n",
    "    classifier.compile(loss = 'binary_crossentropy', optimizer = rmsprop, metrics = ['accuracy'])\n",
    "    return classifier"
   ]
  },
  {
   "cell_type": "code",
   "execution_count": 184,
   "metadata": {
    "collapsed": true
   },
   "outputs": [],
   "source": [
    "#create a KerasClassifier object and call build_classifier function\n",
    "classifier = KerasClassifier(build_fn=build_classifier, batch_size=3000, nb_epoch=15, verbose=2)"
   ]
  },
  {
   "cell_type": "code",
   "execution_count": 185,
   "metadata": {
    "collapsed": true
   },
   "outputs": [],
   "source": [
    "from IPython.core.interactiveshell import InteractiveShell #To print multiple outputs\n",
    "InteractiveShell.ast_node_interactivity = 'all'"
   ]
  },
  {
   "cell_type": "code",
   "execution_count": 186,
   "metadata": {
    "collapsed": false,
    "scrolled": true
   },
   "outputs": [
    {
     "name": "stdout",
     "output_type": "stream",
     "text": [
      "Epoch 1/10\n",
      " - 6s - loss: 0.3748 - acc: 0.8897\n",
      "Epoch 2/10\n",
      " - 0s - loss: 0.1031 - acc: 0.9821\n",
      "Epoch 3/10\n",
      " - 0s - loss: 0.0896 - acc: 0.9821\n",
      "Epoch 4/10\n",
      " - 0s - loss: 0.0834 - acc: 0.9821\n",
      "Epoch 5/10\n",
      " - 0s - loss: 0.0794 - acc: 0.9821\n",
      "Epoch 6/10\n",
      " - 0s - loss: 0.0770 - acc: 0.9821\n",
      "Epoch 7/10\n",
      " - 0s - loss: 0.0758 - acc: 0.9821\n",
      "Epoch 8/10\n",
      " - 0s - loss: 0.0749 - acc: 0.9821\n",
      "Epoch 9/10\n",
      " - 0s - loss: 0.0745 - acc: 0.9821\n",
      "Epoch 10/10\n",
      " - 0s - loss: 0.0738 - acc: 0.9821\n",
      "Epoch 1/10\n",
      " - 6s - loss: 0.3091 - acc: 0.9177\n",
      "Epoch 2/10\n",
      " - 0s - loss: 0.0951 - acc: 0.9821\n",
      "Epoch 3/10\n",
      " - 0s - loss: 0.0863 - acc: 0.9821\n",
      "Epoch 4/10\n",
      " - 0s - loss: 0.0808 - acc: 0.9821\n",
      "Epoch 5/10\n",
      " - 0s - loss: 0.0772 - acc: 0.9821\n",
      "Epoch 6/10\n",
      " - 0s - loss: 0.0758 - acc: 0.9821\n",
      "Epoch 7/10\n",
      " - 0s - loss: 0.0749 - acc: 0.9821\n",
      "Epoch 8/10\n",
      " - 0s - loss: 0.0744 - acc: 0.9821\n",
      "Epoch 9/10\n",
      " - 0s - loss: 0.0739 - acc: 0.9821\n",
      "Epoch 10/10\n",
      " - 0s - loss: 0.0728 - acc: 0.9821\n",
      "Epoch 1/10\n",
      " - 5s - loss: 0.3067 - acc: 0.9096\n",
      "Epoch 2/10\n",
      " - 0s - loss: 0.0952 - acc: 0.9819\n",
      "Epoch 3/10\n",
      " - 0s - loss: 0.0863 - acc: 0.9819\n",
      "Epoch 4/10\n",
      " - 0s - loss: 0.0813 - acc: 0.9819\n",
      "Epoch 5/10\n",
      " - 0s - loss: 0.0782 - acc: 0.9819\n",
      "Epoch 6/10\n",
      " - 0s - loss: 0.0768 - acc: 0.9819\n",
      "Epoch 7/10\n",
      " - 0s - loss: 0.0756 - acc: 0.9819\n",
      "Epoch 8/10\n",
      " - 0s - loss: 0.0747 - acc: 0.9819\n",
      "Epoch 9/10\n",
      " - 0s - loss: 0.0741 - acc: 0.9819\n",
      "Epoch 10/10\n",
      " - 0s - loss: 0.0748 - acc: 0.9819\n",
      "Epoch 1/10\n",
      " - 5s - loss: 0.2682 - acc: 0.9659\n",
      "Epoch 2/10\n",
      " - 0s - loss: 0.0921 - acc: 0.9821\n",
      "Epoch 3/10\n",
      " - 0s - loss: 0.0844 - acc: 0.9821\n",
      "Epoch 4/10\n",
      " - 0s - loss: 0.0796 - acc: 0.9821\n",
      "Epoch 5/10\n",
      " - 0s - loss: 0.0770 - acc: 0.9821\n",
      "Epoch 6/10\n",
      " - 0s - loss: 0.0757 - acc: 0.9821\n",
      "Epoch 7/10\n",
      " - 0s - loss: 0.0744 - acc: 0.9821\n",
      "Epoch 8/10\n",
      " - 0s - loss: 0.0742 - acc: 0.9821\n",
      "Epoch 9/10\n",
      " - 0s - loss: 0.0736 - acc: 0.9821\n",
      "Epoch 10/10\n",
      " - 0s - loss: 0.0732 - acc: 0.9821\n",
      "Epoch 1/10\n",
      " - 6s - loss: 0.2379 - acc: 0.9765\n",
      "Epoch 2/10\n",
      " - 0s - loss: 0.0923 - acc: 0.9821\n",
      "Epoch 3/10\n",
      " - 0s - loss: 0.0832 - acc: 0.9821\n",
      "Epoch 4/10\n",
      " - 0s - loss: 0.0782 - acc: 0.9821\n",
      "Epoch 5/10\n",
      " - 0s - loss: 0.0762 - acc: 0.9821\n",
      "Epoch 6/10\n",
      " - 0s - loss: 0.0751 - acc: 0.9821\n",
      "Epoch 7/10\n",
      " - 0s - loss: 0.0743 - acc: 0.9821\n",
      "Epoch 8/10\n",
      " - 0s - loss: 0.0738 - acc: 0.9821\n",
      "Epoch 9/10\n",
      " - 0s - loss: 0.0729 - acc: 0.9821\n",
      "Epoch 10/10\n",
      " - 0s - loss: 0.0731 - acc: 0.9821\n",
      "Epoch 1/10\n",
      " - 8s - loss: 0.2655 - acc: 0.9618\n",
      "Epoch 2/10\n",
      " - 0s - loss: 0.0919 - acc: 0.9823\n",
      "Epoch 3/10\n",
      " - 0s - loss: 0.0840 - acc: 0.9823\n",
      "Epoch 4/10\n",
      " - 0s - loss: 0.0792 - acc: 0.9823\n",
      "Epoch 5/10\n",
      " - 0s - loss: 0.0768 - acc: 0.9823\n",
      "Epoch 6/10\n",
      " - 0s - loss: 0.0755 - acc: 0.9823\n",
      "Epoch 7/10\n",
      " - 0s - loss: 0.0746 - acc: 0.9823\n",
      "Epoch 8/10\n",
      " - 0s - loss: 0.0741 - acc: 0.9823\n",
      "Epoch 9/10\n",
      " - 0s - loss: 0.0735 - acc: 0.9823\n",
      "Epoch 10/10\n",
      " - 0s - loss: 0.0735 - acc: 0.9823\n",
      "Epoch 1/10\n",
      " - 6s - loss: 0.3370 - acc: 0.8919\n",
      "Epoch 2/10\n",
      " - 0s - loss: 0.1003 - acc: 0.9822\n",
      "Epoch 3/10\n",
      " - 0s - loss: 0.0893 - acc: 0.9822\n",
      "Epoch 4/10\n",
      " - 0s - loss: 0.0832 - acc: 0.9822\n",
      "Epoch 5/10\n",
      " - 0s - loss: 0.0794 - acc: 0.9822\n",
      "Epoch 6/10\n",
      " - 0s - loss: 0.0771 - acc: 0.9822\n",
      "Epoch 7/10\n",
      " - 0s - loss: 0.0758 - acc: 0.9822\n",
      "Epoch 8/10\n",
      " - 0s - loss: 0.0749 - acc: 0.9822\n",
      "Epoch 9/10\n",
      " - 0s - loss: 0.0745 - acc: 0.9822\n",
      "Epoch 10/10\n",
      " - 0s - loss: 0.0738 - acc: 0.9822\n",
      "Epoch 1/10\n",
      " - 7s - loss: 0.3210 - acc: 0.9231\n",
      "Epoch 2/10\n",
      " - 0s - loss: 0.0966 - acc: 0.9821\n",
      "Epoch 3/10\n",
      " - 0s - loss: 0.0865 - acc: 0.9821\n",
      "Epoch 4/10\n",
      " - 0s - loss: 0.0803 - acc: 0.9821\n",
      "Epoch 5/10\n",
      " - 0s - loss: 0.0771 - acc: 0.9821\n",
      "Epoch 6/10\n",
      " - 0s - loss: 0.0755 - acc: 0.9821\n",
      "Epoch 7/10\n",
      " - 0s - loss: 0.0752 - acc: 0.9821\n",
      "Epoch 8/10\n",
      " - 0s - loss: 0.0741 - acc: 0.9821\n",
      "Epoch 9/10\n",
      " - 0s - loss: 0.0741 - acc: 0.9821\n",
      "Epoch 10/10\n",
      " - 0s - loss: 0.0732 - acc: 0.9821\n",
      "Epoch 1/10\n",
      " - 6s - loss: 0.3214 - acc: 0.8935\n",
      "Epoch 2/10\n",
      " - 0s - loss: 0.0989 - acc: 0.9819\n",
      "Epoch 3/10\n",
      " - 0s - loss: 0.0891 - acc: 0.9819\n",
      "Epoch 4/10\n",
      " - 0s - loss: 0.0831 - acc: 0.9819\n",
      "Epoch 5/10\n",
      " - 0s - loss: 0.0788 - acc: 0.9819\n",
      "Epoch 6/10\n",
      " - 0s - loss: 0.0765 - acc: 0.9819\n",
      "Epoch 7/10\n",
      " - 0s - loss: 0.0756 - acc: 0.9819\n",
      "Epoch 8/10\n",
      " - 0s - loss: 0.0749 - acc: 0.9819\n",
      "Epoch 9/10\n",
      " - 0s - loss: 0.0743 - acc: 0.9819\n",
      "Epoch 10/10\n",
      " - 0s - loss: 0.0737 - acc: 0.9819\n",
      "Epoch 1/10\n",
      " - 7s - loss: 0.3736 - acc: 0.8867\n",
      "Epoch 2/10\n",
      " - 0s - loss: 0.1018 - acc: 0.9823\n",
      "Epoch 3/10\n",
      " - 0s - loss: 0.0884 - acc: 0.9823\n",
      "Epoch 4/10\n",
      " - 0s - loss: 0.0829 - acc: 0.9823\n",
      "Epoch 5/10\n",
      " - 0s - loss: 0.0788 - acc: 0.9823\n",
      "Epoch 6/10\n",
      " - 0s - loss: 0.0762 - acc: 0.9823\n",
      "Epoch 7/10\n",
      " - 0s - loss: 0.0751 - acc: 0.9823\n",
      "Epoch 8/10\n",
      " - 0s - loss: 0.0742 - acc: 0.9823\n",
      "Epoch 9/10\n",
      " - 0s - loss: 0.0736 - acc: 0.9823\n",
      "Epoch 10/10\n",
      " - 0s - loss: 0.0728 - acc: 0.9823\n"
     ]
    }
   ],
   "source": [
    "accuracies = cross_val_score(classifier, X_train, y_train, cv=10)"
   ]
  },
  {
   "cell_type": "code",
   "execution_count": 187,
   "metadata": {
    "collapsed": false
   },
   "outputs": [
    {
     "data": {
      "text/plain": [
       "0.98211405764801718"
      ]
     },
     "execution_count": 187,
     "metadata": {},
     "output_type": "execute_result"
    },
    {
     "data": {
      "text/plain": [
       "0.0012113937237098905"
      ]
     },
     "execution_count": 187,
     "metadata": {},
     "output_type": "execute_result"
    }
   ],
   "source": [
    "accuracies.mean()\n",
    "accuracies.std()"
   ]
  },
  {
   "cell_type": "code",
   "execution_count": 188,
   "metadata": {
    "collapsed": false
   },
   "outputs": [
    {
     "name": "stdout",
     "output_type": "stream",
     "text": [
      "Epoch 1/10\n",
      " - 7s - loss: 0.2591 - acc: 0.9372\n",
      "Epoch 2/10\n",
      " - 0s - loss: 0.0919 - acc: 0.9821\n",
      "Epoch 3/10\n",
      " - 0s - loss: 0.0824 - acc: 0.9821\n",
      "Epoch 4/10\n",
      " - 0s - loss: 0.0775 - acc: 0.9821\n",
      "Epoch 5/10\n",
      " - 0s - loss: 0.0756 - acc: 0.9821\n",
      "Epoch 6/10\n",
      " - 0s - loss: 0.0751 - acc: 0.9821\n",
      "Epoch 7/10\n",
      " - 0s - loss: 0.0740 - acc: 0.9821\n",
      "Epoch 8/10\n",
      " - 0s - loss: 0.0735 - acc: 0.9821\n",
      "Epoch 9/10\n",
      " - 0s - loss: 0.0728 - acc: 0.9821\n",
      "Epoch 10/10\n",
      " - 0s - loss: 0.0730 - acc: 0.9821\n"
     ]
    },
    {
     "data": {
      "text/plain": [
       "<keras.callbacks.History at 0xcb251f60>"
      ]
     },
     "execution_count": 188,
     "metadata": {},
     "output_type": "execute_result"
    }
   ],
   "source": [
    "classifier.fit(X_train, y_train)"
   ]
  },
  {
   "cell_type": "code",
   "execution_count": 189,
   "metadata": {
    "collapsed": false
   },
   "outputs": [
    {
     "data": {
      "text/plain": [
       "0.84073704486360046"
      ]
     },
     "execution_count": 189,
     "metadata": {},
     "output_type": "execute_result"
    }
   ],
   "source": [
    "from sklearn import metrics\n",
    "y_pred = classifier.predict_proba(X_test)\n",
    "metrics.roc_auc_score(y_test,y_pred[:,1])"
   ]
  },
  {
   "cell_type": "code",
   "execution_count": 190,
   "metadata": {
    "collapsed": false
   },
   "outputs": [
    {
     "data": {
      "text/plain": [
       "0.9999997"
      ]
     },
     "execution_count": 190,
     "metadata": {},
     "output_type": "execute_result"
    }
   ],
   "source": [
    "test_pred = classifier.predict_proba(np.array(test))\n",
    "test_pred.max()"
   ]
  },
  {
   "cell_type": "code",
   "execution_count": 191,
   "metadata": {
    "collapsed": false
   },
   "outputs": [
    {
     "data": {
      "text/html": [
       "<div>\n",
       "<style scoped>\n",
       "    .dataframe tbody tr th:only-of-type {\n",
       "        vertical-align: middle;\n",
       "    }\n",
       "\n",
       "    .dataframe tbody tr th {\n",
       "        vertical-align: top;\n",
       "    }\n",
       "\n",
       "    .dataframe thead th {\n",
       "        text-align: right;\n",
       "    }\n",
       "</style>\n",
       "<table border=\"1\" class=\"dataframe\">\n",
       "  <thead>\n",
       "    <tr style=\"text-align: right;\">\n",
       "      <th></th>\n",
       "      <th>id</th>\n",
       "      <th>stroke</th>\n",
       "    </tr>\n",
       "  </thead>\n",
       "  <tbody>\n",
       "    <tr>\n",
       "      <th>0</th>\n",
       "      <td>36306</td>\n",
       "      <td>0.063874</td>\n",
       "    </tr>\n",
       "    <tr>\n",
       "      <th>1</th>\n",
       "      <td>61829</td>\n",
       "      <td>0.135096</td>\n",
       "    </tr>\n",
       "    <tr>\n",
       "      <th>2</th>\n",
       "      <td>14152</td>\n",
       "      <td>0.000019</td>\n",
       "    </tr>\n",
       "    <tr>\n",
       "      <th>3</th>\n",
       "      <td>12997</td>\n",
       "      <td>0.000374</td>\n",
       "    </tr>\n",
       "    <tr>\n",
       "      <th>4</th>\n",
       "      <td>40801</td>\n",
       "      <td>0.016118</td>\n",
       "    </tr>\n",
       "  </tbody>\n",
       "</table>\n",
       "</div>"
      ],
      "text/plain": [
       "      id    stroke\n",
       "0  36306  0.063874\n",
       "1  61829  0.135096\n",
       "2  14152  0.000019\n",
       "3  12997  0.000374\n",
       "4  40801  0.016118"
      ]
     },
     "execution_count": 191,
     "metadata": {},
     "output_type": "execute_result"
    }
   ],
   "source": [
    "sample['stroke'] = test_pred[:,1]\n",
    "sample.to_csv('sample_submission.csv',index=False)\n",
    "sample.head()"
   ]
  },
  {
   "cell_type": "code",
   "execution_count": 192,
   "metadata": {
    "collapsed": false
   },
   "outputs": [
    {
     "data": {
      "text/plain": [
       "0.20606355"
      ]
     },
     "execution_count": 192,
     "metadata": {},
     "output_type": "execute_result"
    }
   ],
   "source": [
    "sample.stroke.max()"
   ]
  },
  {
   "cell_type": "code",
   "execution_count": null,
   "metadata": {
    "collapsed": true
   },
   "outputs": [],
   "source": []
  }
 ],
 "metadata": {
  "kernelspec": {
   "display_name": "Python 3",
   "language": "python",
   "name": "python3"
  },
  "language_info": {
   "codemirror_mode": {
    "name": "ipython",
    "version": 3
   },
   "file_extension": ".py",
   "mimetype": "text/x-python",
   "name": "python",
   "nbconvert_exporter": "python",
   "pygments_lexer": "ipython3",
   "version": "3.6.0"
  }
 },
 "nbformat": 4,
 "nbformat_minor": 2
}
